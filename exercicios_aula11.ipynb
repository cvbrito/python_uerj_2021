{
  "nbformat": 4,
  "nbformat_minor": 0,
  "metadata": {
    "colab": {
      "name": "exercicios_aula11.ipynb",
      "provenance": [],
      "authorship_tag": "ABX9TyP1feoAkNP5fqX2lz7KMa4k",
      "include_colab_link": true
    },
    "kernelspec": {
      "name": "python3",
      "display_name": "Python 3"
    },
    "language_info": {
      "name": "python"
    }
  },
  "cells": [
    {
      "cell_type": "markdown",
      "metadata": {
        "id": "view-in-github",
        "colab_type": "text"
      },
      "source": [
        "<a href=\"https://colab.research.google.com/github/cvbrito/python_uerj_2021/blob/main/exercicios_aula11.ipynb\" target=\"_parent\"><img src=\"https://colab.research.google.com/assets/colab-badge.svg\" alt=\"Open In Colab\"/></a>"
      ]
    },
    {
      "cell_type": "markdown",
      "metadata": {
        "id": "mMi7MIPP-izg"
      },
      "source": [
        "**1. Construindo uma matriz utilizando dicionários**"
      ]
    },
    {
      "cell_type": "code",
      "metadata": {
        "colab": {
          "base_uri": "https://localhost:8080/"
        },
        "id": "EYPXLfmY-bhG",
        "outputId": "be94b6d5-aea9-4569-e028-cbff3c2b6433"
      },
      "source": [
        "matrix = {(0,3):1, (2,1):2, (4,3):3}  # definindo a matriz\n",
        "\n",
        "try:\n",
        "  lin = int(input('Digite a linha do elemento que deseja obter: '))\n",
        "except:\n",
        "  print('Erro! Digite um número inteiro!')  \n",
        "  \n",
        "try:\n",
        "  col = int(input('Digite a coluna do elemento que deseja obter: '))\n",
        "except:\n",
        "  print('Erro! Digite um número inteiro!')  \n",
        "\n",
        "if lin>4 or col>4:\n",
        "  print('Erro! O número de linhas e colunas deve estar no intervalo [0,4].')\n",
        "else:\n",
        "  elem = matrix.get((lin, col),0)\n",
        "  print('O elemento correspondente à linha', lin, 'e à coluna', col, 'é: ', elem)"
      ],
      "execution_count": null,
      "outputs": [
        {
          "output_type": "stream",
          "name": "stdout",
          "text": [
            "Digite a linha do elemento que deseja obter: 4\n",
            "Digite a coluna do elemento que deseja obter: 3\n",
            "O elemento correspondente à linha 4 e à coluna 3 é:  3\n"
          ]
        }
      ]
    },
    {
      "cell_type": "markdown",
      "metadata": {
        "id": "GnqnUCfC_CM0"
      },
      "source": [
        "**2. Contagem de letras**"
      ]
    },
    {
      "cell_type": "code",
      "metadata": {
        "colab": {
          "base_uri": "https://localhost:8080/"
        },
        "id": "uKkOJgTDHyOP",
        "outputId": "0166ddeb-2e5e-4bd7-9af2-c40e0dddd631"
      },
      "source": [
        "def ocorrencias(palavra):\n",
        "  '''\n",
        "  Toma como argumento uma string e retorna um dicionário cujas keys são as letras da string \\n\n",
        "  e os valores associados são o número de vezes que esta aparece na string.\n",
        "  '''\n",
        "\n",
        "  dicio = {}  # criando um dicionário vazio\n",
        "\n",
        "  for i in range(len(palavra)):\n",
        "    if palavra[i] in dicio: # caso a letra já seja uma key do dicionário 'dicio', seu valor é acrescido em 1.\n",
        "      dicio[palavra[i]] = dicio[palavra[i]] + 1\n",
        "    else: # caso não, à key é atribuído o valor 1\n",
        "      dicio[palavra[i]] = 1\n",
        "  return dicio\n",
        "\n",
        "ocorrencias('abracadabra')"
      ],
      "execution_count": null,
      "outputs": [
        {
          "output_type": "execute_result",
          "data": {
            "text/plain": [
              "{'a': 5, 'b': 2, 'c': 1, 'd': 1, 'r': 2}"
            ]
          },
          "metadata": {},
          "execution_count": 23
        }
      ]
    },
    {
      "cell_type": "code",
      "metadata": {
        "id": "57uPEJdeLQYa",
        "colab": {
          "base_uri": "https://localhost:8080/"
        },
        "outputId": "1d98efae-7974-4ec2-f163-39b06ab3cf0b"
      },
      "source": [
        "def ordenamento(palavra):\n",
        "  '''\n",
        "  Ordena, de forma alfabética, a saída da função 'ocorrencias'\n",
        "  '''\n",
        "  a = ocorrencias(palavra)\n",
        "  #print(sorted(a.items()))\n",
        "  return sorted(a.items())\n",
        "\n",
        "ordenamento('testando')"
      ],
      "execution_count": null,
      "outputs": [
        {
          "output_type": "execute_result",
          "data": {
            "text/plain": [
              "[('a', 1), ('d', 1), ('e', 1), ('n', 1), ('o', 1), ('s', 1), ('t', 2)]"
            ]
          },
          "metadata": {},
          "execution_count": 46
        }
      ]
    },
    {
      "cell_type": "markdown",
      "metadata": {
        "id": "w60v0lyF_F-f"
      },
      "source": [
        "**3. Elementos de uma string em ordem alfabética**"
      ]
    },
    {
      "cell_type": "code",
      "metadata": {
        "id": "KJ9lkF5g_N6X",
        "colab": {
          "base_uri": "https://localhost:8080/"
        },
        "outputId": "6d928b09-6697-47e8-c2da-789fd0c3b133"
      },
      "source": [
        "def tabela_contagem(input_text):\n",
        "\n",
        "  lista_inicial = input_text.split() # lista cujos elementos são as palavras do input, sem os espaços\n",
        "\n",
        "  text = [] \n",
        "  convert_string = ''\n",
        "\n",
        "  for i in range(len(lista_inicial)): \n",
        "    lista_inicial[i]\n",
        "    convert_string += str(lista_inicial[i]) # \"colando\" todos os elementos da lista_inicial em uma única string\n",
        "\n",
        "  final_string = convert_string.lower() # transformando todos os elementos da string em minúsculos\n",
        "\n",
        "  lista_final = ordenamento(final_string) # utilizamos a função 'ordenamento' para ordenar e contar a ocorrência das letras no input\n",
        "\n",
        "  for i in lista_final: # por último, imprimimos as letras, em ordem alfabética, com sua respectiva frequência\n",
        "    print(i, '\\n')\n",
        "  \n",
        "tabela_contagem('VAmoS TEstaR o NoSSo ProGrAmA')"
      ],
      "execution_count": null,
      "outputs": [
        {
          "output_type": "stream",
          "name": "stdout",
          "text": [
            "('a', 4) \n",
            "\n",
            "('e', 1) \n",
            "\n",
            "('g', 1) \n",
            "\n",
            "('m', 2) \n",
            "\n",
            "('n', 1) \n",
            "\n",
            "('o', 5) \n",
            "\n",
            "('p', 1) \n",
            "\n",
            "('r', 3) \n",
            "\n",
            "('s', 4) \n",
            "\n",
            "('t', 2) \n",
            "\n",
            "('v', 1) \n",
            "\n"
          ]
        }
      ]
    }
  ]
}