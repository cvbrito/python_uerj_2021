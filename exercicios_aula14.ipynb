{
  "nbformat": 4,
  "nbformat_minor": 0,
  "metadata": {
    "colab": {
      "name": "exercicios_aula14.ipynb",
      "provenance": [],
      "authorship_tag": "ABX9TyMxQRahEgtOK9Alpc0/dDuw",
      "include_colab_link": true
    },
    "kernelspec": {
      "name": "python3",
      "display_name": "Python 3"
    },
    "language_info": {
      "name": "python"
    }
  },
  "cells": [
    {
      "cell_type": "markdown",
      "metadata": {
        "id": "view-in-github",
        "colab_type": "text"
      },
      "source": [
        "<a href=\"https://colab.research.google.com/github/cvbrito/python_uerj_2021/blob/main/exercicios_aula14.ipynb\" target=\"_parent\"><img src=\"https://colab.research.google.com/assets/colab-badge.svg\" alt=\"Open In Colab\"/></a>"
      ]
    },
    {
      "cell_type": "code",
      "metadata": {
        "id": "hY8mN40mxYmh"
      },
      "source": [
        "class MeuTempo:\n",
        "  \n",
        "  def __init__ ( self ,  hrs = 0 ,  mins = 0 ,  segs = 0 ): \n",
        "    ''' Criar um objeto MeuTempo inicializado para hrs, mins, segs '''\n",
        "    self.horas  =  hrs\n",
        "    self.minutos  =  mins\n",
        "    self.segundos  =  segs\n",
        "    \n",
        "    ''' Normalizando '''\n",
        "    self.totalsegs =  hrs * 3600  +  mins * 60  +  segs \n",
        "    self.horas =  self.totalsegs  //  3600         # Divisão em h, m, s \n",
        "    restosegs =  self.totalsegs  %  3600 \n",
        "    self.minutos  =  restosegs  //  60 \n",
        "    self.segundos  =  restosegs  %  60\n",
        "    if self.horas >=24:\n",
        "      self.horas = self.horas%24\n",
        "      \n",
        "\n",
        "  def __str__(self):  # introduzindo o método 'dunder string' na classe MeuTempo\n",
        "    ''' Método string para escrever a hora na forma convencional. '''\n",
        "    return '%.2d:%.2d:%.2d' % (self.horas, self.minutos, self.segundos)\n",
        "  \n",
        "  def entre(self, target, between):\n",
        "  \n",
        "    if between.totalsegs >= self.totalsegs and between.totalsegs <= target.totalsegs:\n",
        "      read = True\n",
        "    elif between.totalsegs <= self.totalsegs and between.totalsegs >= target.totalsegs:\n",
        "      read = True\n",
        "    else:\n",
        "      read = False\n",
        "    return read\n",
        "\n",
        "  def __ge__(self, target):\n",
        "    ''' Overload do operador \"maior\", possiblitando a comparação de objetos da classe 'MeuTempo' '''\n",
        "    secs_self = self.segundos + self.minutos*60 + self.horas*3600\n",
        "    secs_target = target.segundos + target.minutos*60 + target.horas*3600\n",
        "    if secs_self >= secs_target:\n",
        "      return True\n",
        "    else:\n",
        "      return False"
      ],
      "execution_count": null,
      "outputs": []
    },
    {
      "cell_type": "code",
      "metadata": {
        "colab": {
          "base_uri": "https://localhost:8080/"
        },
        "id": "VfxvWu2Gx31G",
        "outputId": "3729fe7e-1c67-48f0-aea6-6bfa30002032"
      },
      "source": [
        "time1 = MeuTempo(12, 30, 45)\n",
        "print(time1)"
      ],
      "execution_count": null,
      "outputs": [
        {
          "output_type": "stream",
          "name": "stdout",
          "text": [
            "12:30:45\n"
          ]
        }
      ]
    },
    {
      "cell_type": "markdown",
      "metadata": {
        "id": "IHJm_GKzNmeZ"
      },
      "source": [
        "**Ordenando tempos da classe \"MeuTempo\"**"
      ]
    },
    {
      "cell_type": "code",
      "metadata": {
        "colab": {
          "base_uri": "https://localhost:8080/"
        },
        "id": "0_JFDGiYNlXg",
        "outputId": "20d2877d-f40a-48d7-ead9-601995cdf3b1"
      },
      "source": [
        "def entre(self, target, between):\n",
        "  \n",
        "  if between.totalsegs >= self.totalsegs and between.totalsegs <= target.totalsegs:\n",
        "    read = True\n",
        "  elif between.totalsegs <= self.totalsegs and between.totalsegs >= target.totalsegs:\n",
        "    read = True\n",
        "  else:\n",
        "    read = False\n",
        "  return read\n",
        "\n",
        "time1 = MeuTempo(12, 30, 45)  # definindo tempos para realizar um teste\n",
        "time2 = MeuTempo(11, 0, 0)\n",
        "time3 = MeuTempo(12, 30, 46)\n",
        "\n",
        "entre(time1, time2, time3)"
      ],
      "execution_count": null,
      "outputs": [
        {
          "output_type": "execute_result",
          "data": {
            "text/plain": [
              "False"
            ]
          },
          "metadata": {},
          "execution_count": 4
        }
      ]
    },
    {
      "cell_type": "markdown",
      "metadata": {
        "id": "ikNFC77UPifJ"
      },
      "source": [
        "É possível, ainda, escrever a função acima como um método da classe \"MeuTempo\". Isso foi implementado na célula 1."
      ]
    },
    {
      "cell_type": "markdown",
      "metadata": {
        "id": "7eu7liyGQGxE"
      },
      "source": [
        "**Sobrecarregando opeadores**"
      ]
    },
    {
      "cell_type": "code",
      "metadata": {
        "id": "n9CZRCd5QGa4"
      },
      "source": [
        "def __ge__(self, target):\n",
        "  if self.totalsegs >= target.totalsegs:\n",
        "    return True\n",
        "  else:\n",
        "    return False"
      ],
      "execution_count": null,
      "outputs": []
    },
    {
      "cell_type": "code",
      "metadata": {
        "colab": {
          "base_uri": "https://localhost:8080/"
        },
        "id": "9Ec3mrUuUP_Y",
        "outputId": "2d2e6bb1-e65d-479f-a59b-a51445165170"
      },
      "source": [
        "# Testando\n",
        "\n",
        "time2 = MeuTempo(12, 30, 46)\n",
        "time3 = MeuTempo(12, 30, 44)\n",
        "\n",
        "time2 <= time3"
      ],
      "execution_count": null,
      "outputs": [
        {
          "output_type": "execute_result",
          "data": {
            "text/plain": [
              "False"
            ]
          },
          "metadata": {},
          "execution_count": 8
        }
      ]
    }
  ]
}