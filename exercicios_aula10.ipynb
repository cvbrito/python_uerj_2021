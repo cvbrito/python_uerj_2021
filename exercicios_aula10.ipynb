{
  "nbformat": 4,
  "nbformat_minor": 0,
  "metadata": {
    "colab": {
      "name": "exercicios_aula10.ipynb",
      "provenance": [],
      "authorship_tag": "ABX9TyMdP1N4hzYRfSmqxJ9AKJq6",
      "include_colab_link": true
    },
    "kernelspec": {
      "name": "python3",
      "display_name": "Python 3"
    },
    "language_info": {
      "name": "python"
    }
  },
  "cells": [
    {
      "cell_type": "markdown",
      "metadata": {
        "id": "view-in-github",
        "colab_type": "text"
      },
      "source": [
        "<a href=\"https://colab.research.google.com/github/cvbrito/python_uerj_2021/blob/main/exercicios_aula10.ipynb\" target=\"_parent\"><img src=\"https://colab.research.google.com/assets/colab-badge.svg\" alt=\"Open In Colab\"/></a>"
      ]
    },
    {
      "cell_type": "markdown",
      "metadata": {
        "id": "-ZVz1PTB_fN6"
      },
      "source": [
        "**Exercício 0 - Precisão da integração numérica**"
      ]
    },
    {
      "cell_type": "code",
      "metadata": {
        "colab": {
          "base_uri": "https://localhost:8080/"
        },
        "id": "mHe8f4-s_i5W",
        "outputId": "c0e5e321-f50e-4288-e217-c177ba991bc6"
      },
      "source": [
        "# Definindo a função\n",
        "\n",
        "import math\n",
        "\n",
        "def soma_riemann(): # Agora, vamos realizar a integração numérica desta função utilizando uma soma de Riemann\n",
        "  ''' Função que realiza a integração númerica da funçao exp(-x) no intervalo [0,10] utilizando uma soma de Riemann de n retângulos '''\n",
        "  x = np.linspace(x_i, x_f, n+1)  # lista com n valores de x, espaçados por delta_x\n",
        "  delta_x = (x_f-x_i)/n\n",
        "  y = [math.exp(-xi) for xi in x]\n",
        "  \n",
        "  soma = 0 # resultado da integração, iniciado em zero\n",
        "  for i in range(n):\n",
        "    soma = soma + delta_x*y[i]\n",
        "  #print(soma)\n",
        "  return soma\n",
        "\n",
        "x_i = 0 # intervalo de integração\n",
        "x_f = 10\n",
        "\n",
        "analytic = -(math.exp(-x_f)-math.exp(-x_i))  # valor analítico da integração\n",
        "\n",
        "n = 10  # iniciamos o número de retângulos como n=10; este será atualizado a cada iteração\n",
        "numeric = soma_riemann()  # iniciamos o valor da integração numérica para n=10 retângulos\n",
        "\n",
        "# Agora, vamos calcular o valor da integração numérica e comparar com o resultado analítico.\n",
        "# Caso a precisão seja menor que 1%, incrementamos em 10 o número de retângulos e calculamos novamente a integral numérica\n",
        "# Repete-se o processo até que a precisão desejada seja atingida\n",
        "\n",
        "while numeric/analytic >= 1.01:\n",
        "  n = n+10\n",
        "  numeric = soma_riemann()\n",
        "\n",
        "print(f'Para que haja uma precisão de 1%, é necessário que tenhamos {n} retângulos.')"
      ],
      "execution_count": 29,
      "outputs": [
        {
          "output_type": "stream",
          "name": "stdout",
          "text": [
            "Para que haja uma precisão de 1%, é necessário que tenhamos 510 retângulos\n"
          ]
        }
      ]
    },
    {
      "cell_type": "code",
      "metadata": {
        "id": "RDOp7euvUiWt"
      },
      "source": [
        "'''x = np.linspace(x_i, x_f, n+1)  # lista com n valores de x, espaçados por delta_x\n",
        "delta_x = (x_f-x_i)/n\n",
        "y = [math.exp(-xi) for xi in x]\n",
        "\n",
        "soma = 0 # resultado da integração, iniciado em zero\n",
        "for i in range(n):\n",
        "  soma = soma + delta_x*y[i]\n",
        "\n",
        "'''\n"
      ],
      "execution_count": null,
      "outputs": []
    },
    {
      "cell_type": "markdown",
      "metadata": {
        "id": "sNaV8_b2L6eX"
      },
      "source": [
        "**Exercício 1 - Somas de Riemann**"
      ]
    },
    {
      "cell_type": "markdown",
      "metadata": {
        "id": "HgxgP2v6HIuV"
      },
      "source": [
        "**1.1 Soma de Riemann pela esquerda**"
      ]
    },
    {
      "cell_type": "code",
      "metadata": {
        "colab": {
          "base_uri": "https://localhost:8080/",
          "height": 265
        },
        "id": "6OwV7h4oPb-0",
        "outputId": "aeabde72-849c-4d0d-cbe3-5b37af7fb563"
      },
      "source": [
        "# Desenhando o gráfico para visualização \n",
        "\n",
        "import matplotlib.pyplot as plt\n",
        "import numpy as np\n",
        "import math\n",
        "\n",
        "x_i = 0\n",
        "x_f = 10\n",
        "\n",
        "n = 10 # número de retângulos\n",
        "x = np.linspace(x_i, x_f, n+1)\n",
        "y = [math.exp(-xi) for xi in x]\n",
        "\n",
        "x1 = np.linspace(0, 10, 1000) # intervalo de 0 a 10, com 1000 divisões\n",
        "y1 = [math.exp(-xi) for xi in x1]\n",
        "\n",
        "plt.bar(x[:-1], y[:-1], color = \"red\", align = \"edge\", width = (x_f-x_i)/n)\n",
        "plt.plot(x1, y1)\n",
        "plt.show()"
      ],
      "execution_count": null,
      "outputs": [
        {
          "output_type": "display_data",
          "data": {
            "image/png": "[encoded data removed]",
            "text/plain": [
              "<Figure size 432x288 with 1 Axes>"
            ]
          },
          "metadata": {
            "needs_background": "light"
          }
        }
      ]
    },
    {
      "cell_type": "code",
      "metadata": {
        "colab": {
          "base_uri": "https://localhost:8080/"
        },
        "id": "gQ-9udrKHZiC",
        "outputId": "1e43bf59-c8a9-43b2-8c40-da0d8f1afde8"
      },
      "source": [
        "# Para realizar a integral com uma precisão minimamente razoável, vamos considerar 1000 retângulos\n",
        "\n",
        "import numpy as np\n",
        "import math\n",
        "\n",
        "x_i = 0\n",
        "x_f = 10\n",
        "\n",
        "n = 1000 # número de retângulos\n",
        "x = np.linspace(x_i, x_f, n+1)  # lista com n valores de x, espaçados por delta_x\n",
        "delta_x = (x_f-x_i)/n\n",
        "y = [math.exp(-xi) for xi in x]\n",
        "\n",
        "soma = 0 # resultado da integração, iniciado em zero\n",
        "for i in range(n):\n",
        "  soma = soma + delta_x*y[i]\n",
        "\n",
        "print(f'Soma de {n} retângulos = ', soma)"
      ],
      "execution_count": 25,
      "outputs": [
        {
          "output_type": "stream",
          "name": "stdout",
          "text": [
            "Soma de 1000 retângulos =  1.0049627060117017\n"
          ]
        }
      ]
    },
    {
      "cell_type": "markdown",
      "metadata": {
        "id": "9hvXXU3aHUbu"
      },
      "source": [
        "**1.2 Soma de Riemann pela direita**"
      ]
    },
    {
      "cell_type": "code",
      "metadata": {
        "colab": {
          "base_uri": "https://localhost:8080/",
          "height": 265
        },
        "id": "Y9uwLOBZL9RC",
        "outputId": "bfa13493-207f-4d60-b319-f1d7c43e9374"
      },
      "source": [
        "# Desenhando o gráfico para visualização\n",
        "\n",
        "import matplotlib.pyplot as plt\n",
        "import numpy as np\n",
        "import math\n",
        "\n",
        "x_i = 0\n",
        "x_f = 10\n",
        "\n",
        "n = 10 # número de retângulos\n",
        "x = np.linspace(0, 10, n+1)\n",
        "y = [math.exp(-xi) for xi in x]\n",
        "\n",
        "x1 = np.linspace(0, 10, 1000) # intervalo de 0 a 10, com 1000 divisões\n",
        "y1 = [math.exp(-xi) for xi in x1]\n",
        "\n",
        "plt.bar(x[1:], y[1:], color = \"red\", align = \"edge\", width = -(x_f-x_i)/n)\n",
        "plt.plot(x1, y1)\n",
        "plt.show()"
      ],
      "execution_count": null,
      "outputs": [
        {
          "output_type": "display_data",
          "data": {
            "image/png": "[encoded data removed]",
            "text/plain": [
              "<Figure size 432x288 with 1 Axes>"
            ]
          },
          "metadata": {
            "needs_background": "light"
          }
        }
      ]
    },
    {
      "cell_type": "code",
      "metadata": {
        "colab": {
          "base_uri": "https://localhost:8080/"
        },
        "id": "LCA5fTAiJg5o",
        "outputId": "73e24a7e-bf56-480f-8f4d-17e7814414f3"
      },
      "source": [
        "# Para realizar a integral com uma precisão minimamente razoável, vamos considerar 1000 retângulos\n",
        "\n",
        "import numpy as np\n",
        "import math\n",
        "\n",
        "x_i = 0\n",
        "x_f = 10\n",
        "\n",
        "n = 1000 # número de retângulos\n",
        "x = np.linspace(x_i, x_f, n+1)  # lista com n valores de x, espaçados por delta_x\n",
        "delta_x = (x_f-x_i)/n\n",
        "y = [math.exp(-xi) for xi in x]\n",
        "\n",
        "soma = 0 # resultado da integração, iniciado em zero\n",
        "for i in range(n):\n",
        "  soma = soma + delta_x*y[i+1]\n",
        "\n",
        "print(f'Soma de {n} retângulos = ', soma)"
      ],
      "execution_count": 14,
      "outputs": [
        {
          "output_type": "stream",
          "name": "stdout",
          "text": [
            "Soma de 1000 retângulos =  0.9949631600109982\n"
          ]
        }
      ]
    },
    {
      "cell_type": "markdown",
      "metadata": {
        "id": "xFJN0HNlNCuw"
      },
      "source": [
        "Podemos concluir, portanto, que, apesar de os dois métodos apresentarem uma precisão apreciável quando comparados ao valor analítico, apresentam imprecisões de origens distintas. Ao passo que a soma de Riemann pela esquerda **superestima** o valor analítica, a soma de Riemann pela direita o **subestima**."
      ]
    },
    {
      "cell_type": "markdown",
      "metadata": {
        "id": "WoaKciHgPVhH"
      },
      "source": [
        "**Exercício 2 - Integração por trapézios**"
      ]
    },
    {
      "cell_type": "code",
      "metadata": {
        "colab": {
          "base_uri": "https://localhost:8080/"
        },
        "id": "o2MjAk-3PZrd",
        "outputId": "5fc6117e-c08c-416a-9771-14d759a70a9a"
      },
      "source": [
        "import numpy as np\n",
        "import math\n",
        "\n",
        "# Integração numérica por trapézios da função exponencial\n",
        "\n",
        "x_i = 0\n",
        "x_f = 10\n",
        "n = 1000 # número de trapézios\n",
        "dx = (x_f-x_i)/n # tamanho do intervalo\n",
        "\n",
        "x = np.linspace(x_i, x_f, n+1)\n",
        "y = [math.exp(-xi) for xi in x]\n",
        "\n",
        "soma = 0\n",
        "\n",
        "for i in range(n):\n",
        "  soma = soma + (y[i]+y[i+1])*dx/2\n",
        "\n",
        "print(soma)"
      ],
      "execution_count": null,
      "outputs": [
        {
          "output_type": "stream",
          "name": "stdout",
          "text": [
            "0.9999629330113492\n"
          ]
        }
      ]
    },
    {
      "cell_type": "markdown",
      "metadata": {
        "id": "pgCOKnVJQx5F"
      },
      "source": [
        "A integração por trapézios apresenta uma precisão bem superior aos métodos de soma de Riemann por retângulos, tanto pela esquerda quanto pela direita."
      ]
    },
    {
      "cell_type": "markdown",
      "metadata": {
        "id": "-pnfyXkMUqAY"
      },
      "source": [
        "**Exercício 3 - Integração numérica de funções trigonométricas**"
      ]
    },
    {
      "cell_type": "code",
      "metadata": {
        "colab": {
          "base_uri": "https://localhost:8080/",
          "height": 295
        },
        "id": "zgAncy-CUvuP",
        "outputId": "61317d45-9a63-4294-b29d-5eb3ad4a8bb1"
      },
      "source": [
        "import matplotlib.pyplot as plt\n",
        "import numpy as np\n",
        "import math\n",
        "\n",
        "x_i = 0\n",
        "x_f = 2*math.pi\n",
        "\n",
        "n = 1000 # número de retângulos\n",
        "x = np.linspace(x_i, x_f, n+1)\n",
        "y = [math.sin(xi) for xi in x]\n",
        "\n",
        "x1 = np.linspace(x_i, x_f, 1000) # intervalo de 0 a 10, com 1000 divisões\n",
        "y1 = [math.sin(xi) for xi in x1]\n",
        "\n",
        "plt.bar(x[:-1], y[:-1], color = \"red\", align = \"edge\", width = (x_f-x_i)/n)\n",
        "plt.title('sin(x)')\n",
        "plt.xlabel('x (rad)')\n",
        "plt.plot(x1,y1)\n",
        "plt.show()"
      ],
      "execution_count": null,
      "outputs": [
        {
          "output_type": "display_data",
          "data": {
            "image/png": "[encoded data removed]",
            "text/plain": [
              "<Figure size 432x288 with 1 Axes>"
            ]
          },
          "metadata": {
            "needs_background": "light"
          }
        }
      ]
    },
    {
      "cell_type": "code",
      "metadata": {
        "colab": {
          "base_uri": "https://localhost:8080/",
          "height": 295
        },
        "id": "8XkAl0FtyUyB",
        "outputId": "09050611-c65a-4111-c9e5-e143d259d16b"
      },
      "source": [
        "import matplotlib.pyplot as plt\n",
        "import numpy as np\n",
        "import math\n",
        "\n",
        "x_i = 0\n",
        "x_f = 2*math.pi\n",
        "\n",
        "n = 1000 # número de retângulos\n",
        "x = np.linspace(x_i, x_f, n+1)\n",
        "y = [math.cos(xi) for xi in x]\n",
        "\n",
        "x1 = np.linspace(x_i, x_f, 1000) # intervalo de 0 a 10, com 1000 divisões\n",
        "y1 = [math.cos(xi) for xi in x1]\n",
        "\n",
        "plt.bar(x[:-1], y[:-1], color = \"purple\", align = \"edge\", width = (x_f-x_i)/n)\n",
        "plt.title('cos(x)')\n",
        "plt.xlabel('x (rad)')\n",
        "plt.plot(x1,y1)\n",
        "plt.show()"
      ],
      "execution_count": null,
      "outputs": [
        {
          "output_type": "display_data",
          "data": {
            "image/png": "[encoded data removed]",
            "text/plain": [
              "<Figure size 432x288 with 1 Axes>"
            ]
          },
          "metadata": {
            "needs_background": "light"
          }
        }
      ]
    },
    {
      "cell_type": "code",
      "metadata": {
        "colab": {
          "base_uri": "https://localhost:8080/"
        },
        "id": "UHlJDXW2WlB_",
        "outputId": "f7050a96-a218-4a93-d227-9dfc1658c78a"
      },
      "source": [
        "import numpy as np\n",
        "import math\n",
        "\n",
        "# Calculando a integração numérica da função sin(x) no intervalo 0 até 2*pi utilizando o método dos trapézios\n",
        "\n",
        "x_i = 0\n",
        "x_f = 2*math.pi\n",
        "n = 10 # número de trapézios\n",
        "dx = (x_f-x_i)/n # tamanho do intervalo\n",
        "\n",
        "x = np.linspace(x_i, x_f, n+1)\n",
        "y = [math.sin(xi) for xi in x]\n",
        "soma = 0\n",
        "\n",
        "for i in range(n):\n",
        "  soma = soma + (y[i]+y[i+1])*dx/2\n",
        "\n",
        "print(soma)"
      ],
      "execution_count": null,
      "outputs": [
        {
          "output_type": "stream",
          "name": "stdout",
          "text": [
            "-5.551115123125783e-17\n"
          ]
        }
      ]
    },
    {
      "cell_type": "code",
      "metadata": {
        "colab": {
          "base_uri": "https://localhost:8080/"
        },
        "id": "gYwon1qcWu81",
        "outputId": "eb0c33f4-8920-44c3-9e90-2b27df55c2bb"
      },
      "source": [
        "import numpy as np\n",
        "import math\n",
        "\n",
        "# Calculando a integração numérica da função cos(x) no intervalo 0 até 2*pi utilizando o método dos trapézios\n",
        "\n",
        "x_i = 0\n",
        "x_f = 2*math.pi\n",
        "n = 100 # número de trapézios\n",
        "dx = (x_f-x_i)/n # tamanho do intervalo\n",
        "\n",
        "x = np.linspace(x_i, x_f, n+1)\n",
        "y = [math.cos(xi) for xi in x]\n",
        "soma = 0\n",
        "\n",
        "for i in range(n):\n",
        "  soma = soma + (y[i]+y[i+1])*dx/2\n",
        "\n",
        "print(soma)"
      ],
      "execution_count": null,
      "outputs": [
        {
          "output_type": "stream",
          "name": "stdout",
          "text": [
            "2.498001805406602e-16\n"
          ]
        }
      ]
    },
    {
      "cell_type": "markdown",
      "metadata": {
        "id": "j4Ok7RO8XKbw"
      },
      "source": [
        "**Exercício 4 - Integração numérica de funções hiperbólicas**"
      ]
    },
    {
      "cell_type": "code",
      "metadata": {
        "colab": {
          "base_uri": "https://localhost:8080/",
          "height": 295
        },
        "id": "cmoD1g02XOvO",
        "outputId": "bc218983-e8a0-4cdb-8bdb-2363eb4d4ed9"
      },
      "source": [
        "import matplotlib.pyplot as plt\n",
        "import numpy as np\n",
        "import math\n",
        "\n",
        "x_i = 0\n",
        "x_f = 10\n",
        "\n",
        "n = 1000 # número de retângulos\n",
        "x = np.linspace(x_i, x_f, n+1)\n",
        "y = [math.sinh(xi) for xi in x]\n",
        "\n",
        "x1 = np.linspace(x_i, x_f, 1000) # intervalo de 0 a 10, com 1000 divisões\n",
        "y1 = [math.sinh(xi) for xi in x1]\n",
        "\n",
        "plt.bar(x[:-1], y[:-1], color = \"red\", align = \"edge\", width = (x_f-x_i)/n)\n",
        "plt.title('sinh(x)')\n",
        "plt.xlabel('x')\n",
        "plt.plot(x1,y1)\n",
        "plt.show()"
      ],
      "execution_count": null,
      "outputs": [
        {
          "output_type": "display_data",
          "data": {
            "image/png": "[encoded data removed]",
            "text/plain": [
              "<Figure size 432x288 with 1 Axes>"
            ]
          },
          "metadata": {
            "needs_background": "light"
          }
        }
      ]
    },
    {
      "cell_type": "code",
      "metadata": {
        "colab": {
          "base_uri": "https://localhost:8080/",
          "height": 295
        },
        "id": "AfjzMMRQX8ai",
        "outputId": "fb2560a3-84c7-4be6-e836-65585d8836ac"
      },
      "source": [
        "import matplotlib.pyplot as plt\n",
        "import numpy as np\n",
        "import math\n",
        "\n",
        "x_i = 0\n",
        "x_f = 10\n",
        "\n",
        "n = 1000 # número de retângulos\n",
        "x = np.linspace(x_i, x_f, n+1)\n",
        "y = [math.cosh(xi) for xi in x]\n",
        "\n",
        "x1 = np.linspace(x_i, x_f, 1000) # intervalo de 0 a 10, com 1000 divisões\n",
        "y1 = [math.cosh(xi) for xi in x1]\n",
        "\n",
        "plt.bar(x[:-1], y[:-1], color = \"red\", align = \"edge\", width = (x_f-x_i)/n)\n",
        "plt.title('cosh(x)')\n",
        "plt.xlabel('x')\n",
        "plt.plot(x1,y1)\n",
        "plt.show()"
      ],
      "execution_count": null,
      "outputs": [
        {
          "output_type": "display_data",
          "data": {
            "image/png": "[encoded data removed]",
            "text/plain": [
              "<Figure size 432x288 with 1 Axes>"
            ]
          },
          "metadata": {
            "needs_background": "light"
          }
        }
      ]
    },
    {
      "cell_type": "code",
      "metadata": {
        "colab": {
          "base_uri": "https://localhost:8080/"
        },
        "id": "KMfmPn6sXfH_",
        "outputId": "4eb0bf76-1b14-48df-89fb-2da84dfdf541"
      },
      "source": [
        "import numpy as np\n",
        "import math\n",
        "\n",
        "# Calculando a integração numérica da função sinh(x) no intervalo 0 até 2*pi utilizando o método dos trapézios\n",
        "\n",
        "x_i = 0\n",
        "x_f = 10\n",
        "n = 100 # número de trapézios\n",
        "dx = (x_f-x_i)/n # tamanho do intervalo\n",
        "\n",
        "x = np.linspace(x_i, x_f, n+1)\n",
        "y = [math.sinh(xi) for xi in x]\n",
        "soma = 0\n",
        "\n",
        "for i in range(n):\n",
        "  soma = soma + (y[i]+y[i+1])*dx/2\n",
        "\n",
        "print(soma)"
      ],
      "execution_count": null,
      "outputs": [
        {
          "output_type": "stream",
          "name": "stdout",
          "text": [
            "11021.408251757355\n"
          ]
        }
      ]
    },
    {
      "cell_type": "code",
      "metadata": {
        "colab": {
          "base_uri": "https://localhost:8080/"
        },
        "id": "_lS5NCKvX09Q",
        "outputId": "1d6b3380-992a-4fc3-b3e7-443b7fcb7f95"
      },
      "source": [
        "import numpy as np\n",
        "import math\n",
        "\n",
        "# Calculando a integração numérica da função cosh(x) no intervalo 0 até 2*pi utilizando o método dos trapézios\n",
        "\n",
        "x_i = 0\n",
        "x_f = 10\n",
        "n = 100 # número de trapézios\n",
        "dx = (x_f-x_i)/n # tamanho do intervalo\n",
        "\n",
        "x = np.linspace(x_i, x_f, n+1)\n",
        "y = [math.cosh(xi) for xi in x]\n",
        "soma = 0\n",
        "\n",
        "for i in range(n):\n",
        "  soma = soma + (y[i]+y[i+1])*dx/2\n",
        "\n",
        "print(soma)"
      ],
      "execution_count": null,
      "outputs": [
        {
          "output_type": "stream",
          "name": "stdout",
          "text": [
            "11022.409039514077\n"
          ]
        }
      ]
    }
  ]
}