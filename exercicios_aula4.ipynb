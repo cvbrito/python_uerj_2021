{
  "nbformat": 4,
  "nbformat_minor": 0,
  "metadata": {
    "colab": {
      "name": "exercicios_aula4.ipynb",
      "provenance": [],
      "authorship_tag": "ABX9TyMed8/qowdcSBd/1jlJyc+S",
      "include_colab_link": true
    },
    "kernelspec": {
      "name": "python3",
      "display_name": "Python 3"
    },
    "language_info": {
      "name": "python"
    }
  },
  "cells": [
    {
      "cell_type": "markdown",
      "metadata": {
        "id": "view-in-github",
        "colab_type": "text"
      },
      "source": [
        "<a href=\"https://colab.research.google.com/github/cvbrito/python_uerj_2021/blob/main/exercicios_aula4.ipynb\" target=\"_parent\"><img src=\"https://colab.research.google.com/assets/colab-badge.svg\" alt=\"Open In Colab\"/></a>"
      ]
    },
    {
      "cell_type": "markdown",
      "metadata": {
        "id": "a1uiUkc5eIus"
      },
      "source": [
        "**Exercício 1 - Dobro da soma de dois números**"
      ]
    },
    {
      "cell_type": "code",
      "metadata": {
        "colab": {
          "base_uri": "https://localhost:8080/"
        },
        "id": "Oah0O3CieLFx",
        "outputId": "8c7be39d-66d0-4ce5-e541-3a8497d018ee"
      },
      "source": [
        "def dobro_soma(x1, x2):\n",
        "    x = x1+x2\n",
        "    return 2*x\n",
        "\n",
        "dobro_soma(2,7)"
      ],
      "execution_count": null,
      "outputs": [
        {
          "output_type": "execute_result",
          "data": {
            "text/plain": [
              "18"
            ]
          },
          "metadata": {},
          "execution_count": 5
        }
      ]
    },
    {
      "cell_type": "markdown",
      "metadata": {
        "id": "3X8eBusFgJtU"
      },
      "source": [
        "**Exercício 2 - \"do_twice\" modificado, \"do_four\"**"
      ]
    },
    {
      "cell_type": "code",
      "metadata": {
        "colab": {
          "base_uri": "https://localhost:8080/"
        },
        "id": "vvIpxk-VgKCo",
        "outputId": "04c2a326-fdf8-41a3-8617-518556ad7d6b"
      },
      "source": [
        "# do_twice usual\n",
        "\n",
        "def do_twice(f):\n",
        "    f()\n",
        "    f()\n",
        "\n",
        "def print_spam (): \n",
        "    print('spam') \n",
        "\n",
        "do_twice(print_spam)"
      ],
      "execution_count": null,
      "outputs": [
        {
          "output_type": "stream",
          "text": [
            "spam\n",
            "spam\n"
          ],
          "name": "stdout"
        }
      ]
    },
    {
      "cell_type": "code",
      "metadata": {
        "colab": {
          "base_uri": "https://localhost:8080/"
        },
        "id": "DuSUX5GtnKUd",
        "outputId": "71bf2de2-53a8-4778-bc95-5a9614d31bb0"
      },
      "source": [
        "# do_twice modificado\n",
        "\n",
        "def do_twice2(f, x):\n",
        "    f(x)\n",
        "    f(x)\n",
        "\n",
        "def print_spam2(texto):\n",
        "    print(texto)\n",
        "    print(texto)\n",
        "\n",
        "do_twice2(print_spam2, 'spam')"
      ],
      "execution_count": null,
      "outputs": [
        {
          "output_type": "stream",
          "text": [
            "spam\n",
            "spam\n",
            "spam\n",
            "spam\n"
          ],
          "name": "stdout"
        }
      ]
    },
    {
      "cell_type": "code",
      "metadata": {
        "colab": {
          "base_uri": "https://localhost:8080/"
        },
        "id": "W_bdvfRqtSD6",
        "outputId": "12181a2c-6ad8-4815-95a7-7c6075821a4b"
      },
      "source": [
        "# do_four\n",
        "\n",
        "def do_twice2(f, x):\n",
        "    f(x)\n",
        "    f(x)\n",
        "\n",
        "def print_spam2(texto):\n",
        "    print(texto)\n",
        "    print(texto)\n",
        "\n",
        "def do_four(g, y):\n",
        "    do_twice2(g, y)\n",
        "    do_twice2(g, y)\n",
        "\n",
        "do_four(print_spam2, 'spam')"
      ],
      "execution_count": null,
      "outputs": [
        {
          "output_type": "stream",
          "text": [
            "spam\n",
            "spam\n",
            "spam\n",
            "spam\n",
            "spam\n",
            "spam\n",
            "spam\n",
            "spam\n"
          ],
          "name": "stdout"
        }
      ]
    }
  ]
}