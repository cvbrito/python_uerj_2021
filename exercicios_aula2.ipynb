{
  "nbformat": 4,
  "nbformat_minor": 0,
  "metadata": {
    "colab": {
      "name": "exercicios_aula2.ipynb",
      "provenance": [],
      "authorship_tag": "ABX9TyM7fs4JGl/2I6KAY0dNp9Wc",
      "include_colab_link": true
    },
    "kernelspec": {
      "name": "python3",
      "display_name": "Python 3"
    },
    "language_info": {
      "name": "python"
    }
  },
  "cells": [
    {
      "cell_type": "markdown",
      "metadata": {
        "id": "view-in-github",
        "colab_type": "text"
      },
      "source": [
        "<a href=\"https://colab.research.google.com/github/cvbrito/python_uerj_2021/blob/main/exercicios_aula2.ipynb\" target=\"_parent\"><img src=\"https://colab.research.google.com/assets/colab-badge.svg\" alt=\"Open In Colab\"/></a>"
      ]
    },
    {
      "cell_type": "markdown",
      "metadata": {
        "id": "bsuFtcy_hvss"
      },
      "source": [
        "**Exercício 1 - Tipos e valores de expressões**"
      ]
    },
    {
      "cell_type": "code",
      "metadata": {
        "id": "ByNm82LehwVH"
      },
      "source": [
        "largura = 17\n",
        "altura = 12.0\n",
        "delimitador = '.'"
      ],
      "execution_count": null,
      "outputs": []
    },
    {
      "cell_type": "code",
      "metadata": {
        "colab": {
          "base_uri": "https://localhost:8080/"
        },
        "id": "ts7yBoP17M-1",
        "outputId": "77e74285-9422-4364-f1a4-ed2ff88644fa"
      },
      "source": [
        "largura/2"
      ],
      "execution_count": null,
      "outputs": [
        {
          "output_type": "execute_result",
          "data": {
            "text/plain": [
              "8.5"
            ]
          },
          "metadata": {
            "tags": []
          },
          "execution_count": 21
        }
      ]
    },
    {
      "cell_type": "code",
      "metadata": {
        "colab": {
          "base_uri": "https://localhost:8080/"
        },
        "id": "Ej_XcI4V7OGw",
        "outputId": "84090a56-b56d-4037-bd77-0fbc34646b4d"
      },
      "source": [
        "type(largura/2)"
      ],
      "execution_count": null,
      "outputs": [
        {
          "output_type": "execute_result",
          "data": {
            "text/plain": [
              "float"
            ]
          },
          "metadata": {
            "tags": []
          },
          "execution_count": 22
        }
      ]
    },
    {
      "cell_type": "code",
      "metadata": {
        "colab": {
          "base_uri": "https://localhost:8080/"
        },
        "id": "-uz_kMbk7P1O",
        "outputId": "387c1a36-d2ac-4305-f937-3e1545193239"
      },
      "source": [
        "largura/2.0"
      ],
      "execution_count": null,
      "outputs": [
        {
          "output_type": "execute_result",
          "data": {
            "text/plain": [
              "8.5"
            ]
          },
          "metadata": {
            "tags": []
          },
          "execution_count": 23
        }
      ]
    },
    {
      "cell_type": "code",
      "metadata": {
        "colab": {
          "base_uri": "https://localhost:8080/"
        },
        "id": "QehE98bk7QL5",
        "outputId": "f35db1f5-f8c2-4de9-f960-ff2de43cad9b"
      },
      "source": [
        "type(largura/2.0)"
      ],
      "execution_count": null,
      "outputs": [
        {
          "output_type": "execute_result",
          "data": {
            "text/plain": [
              "float"
            ]
          },
          "metadata": {
            "tags": []
          },
          "execution_count": 24
        }
      ]
    },
    {
      "cell_type": "code",
      "metadata": {
        "colab": {
          "base_uri": "https://localhost:8080/"
        },
        "id": "c6FX1Zti7Qdz",
        "outputId": "a54d58be-4b7f-4cab-eb0b-b00dbf9d3c37"
      },
      "source": [
        "altura/3"
      ],
      "execution_count": null,
      "outputs": [
        {
          "output_type": "execute_result",
          "data": {
            "text/plain": [
              "4.0"
            ]
          },
          "metadata": {
            "tags": []
          },
          "execution_count": 25
        }
      ]
    },
    {
      "cell_type": "code",
      "metadata": {
        "colab": {
          "base_uri": "https://localhost:8080/"
        },
        "id": "ZRZ_zRp37Rc6",
        "outputId": "b1ae8be0-e9b0-4306-9cde-cf1840e42c56"
      },
      "source": [
        "type(altura/3)"
      ],
      "execution_count": null,
      "outputs": [
        {
          "output_type": "execute_result",
          "data": {
            "text/plain": [
              "float"
            ]
          },
          "metadata": {
            "tags": []
          },
          "execution_count": 26
        }
      ]
    },
    {
      "cell_type": "code",
      "metadata": {
        "colab": {
          "base_uri": "https://localhost:8080/"
        },
        "id": "QxaK-fMK7RFI",
        "outputId": "2eb4df8f-e99b-48c7-93a9-69b8f67eaee3"
      },
      "source": [
        "1+2*5"
      ],
      "execution_count": null,
      "outputs": [
        {
          "output_type": "execute_result",
          "data": {
            "text/plain": [
              "11"
            ]
          },
          "metadata": {
            "tags": []
          },
          "execution_count": 27
        }
      ]
    },
    {
      "cell_type": "code",
      "metadata": {
        "id": "87p8QPIA7gRT",
        "colab": {
          "base_uri": "https://localhost:8080/"
        },
        "outputId": "0612b81a-f14b-43a6-dacc-49ba3d402467"
      },
      "source": [
        "type(1+2*5)"
      ],
      "execution_count": null,
      "outputs": [
        {
          "output_type": "execute_result",
          "data": {
            "text/plain": [
              "int"
            ]
          },
          "metadata": {
            "tags": []
          },
          "execution_count": 28
        }
      ]
    },
    {
      "cell_type": "code",
      "metadata": {
        "id": "6qfj91mn7hEX",
        "colab": {
          "base_uri": "https://localhost:8080/",
          "height": 36
        },
        "outputId": "9e0e7bf2-99b8-4f27-973e-0cfa19f10954"
      },
      "source": [
        "delimitador*5"
      ],
      "execution_count": null,
      "outputs": [
        {
          "output_type": "execute_result",
          "data": {
            "application/vnd.google.colaboratory.intrinsic+json": {
              "type": "string"
            },
            "text/plain": [
              "'.....'"
            ]
          },
          "metadata": {
            "tags": []
          },
          "execution_count": 31
        }
      ]
    },
    {
      "cell_type": "code",
      "metadata": {
        "id": "A2gPpufd7g2z",
        "colab": {
          "base_uri": "https://localhost:8080/"
        },
        "outputId": "d377a474-93a4-4362-9e0a-a356c69fb8e0"
      },
      "source": [
        "type(delimitador*5)"
      ],
      "execution_count": null,
      "outputs": [
        {
          "output_type": "execute_result",
          "data": {
            "text/plain": [
              "str"
            ]
          },
          "metadata": {
            "tags": []
          },
          "execution_count": 32
        }
      ]
    },
    {
      "cell_type": "markdown",
      "metadata": {
        "id": "Vq6VS0EvOP7c"
      },
      "source": [
        "**Exercício 2 - Volume da esfera**"
      ]
    },
    {
      "cell_type": "code",
      "metadata": {
        "colab": {
          "base_uri": "https://localhost:8080/"
        },
        "id": "GB2VRvwwMSxc",
        "outputId": "8c208e3a-57d4-47d5-f0ff-c8bcabe89876"
      },
      "source": [
        "from math import pi\n",
        "\n",
        "raio = 5 # assume-se o raio em metros cúbicos, de modo que o volume terá a mesma unidade.\n",
        "volume = (4/3)*pi*raio**3 \n",
        "\n",
        "print('O volume da esfera é de', round(volume,2), 'metros cúbicos.')"
      ],
      "execution_count": null,
      "outputs": [
        {
          "output_type": "stream",
          "text": [
            "O volume da esfera é de 523.6 metros cúbicos.\n"
          ],
          "name": "stdout"
        }
      ]
    },
    {
      "cell_type": "markdown",
      "metadata": {
        "id": "pkkOlSIIc0ze"
      },
      "source": [
        "**Exercício 3 - Preço dos livros**"
      ]
    },
    {
      "cell_type": "code",
      "metadata": {
        "colab": {
          "base_uri": "https://localhost:8080/"
        },
        "id": "H8B79iaUdPtO",
        "outputId": "259a4863-baf0-4be2-8ecd-fe0ac3d378c2"
      },
      "source": [
        "n_livros=60\n",
        "preco = n_livros*0.6*24.95\n",
        "frete = 3+(n_livros-1)*0.75\n",
        "\n",
        "total = preco+frete\n",
        "\n",
        "print('O custo total será de', round(total,2), 'reais.')"
      ],
      "execution_count": null,
      "outputs": [
        {
          "output_type": "stream",
          "text": [
            "O custo total será de 945.45 reais.\n"
          ],
          "name": "stdout"
        }
      ]
    },
    {
      "cell_type": "markdown",
      "metadata": {
        "id": "Qs7c3dtsffjn"
      },
      "source": [
        "**Exercício 4 - Padrão de interferência**"
      ]
    },
    {
      "cell_type": "code",
      "metadata": {
        "colab": {
          "base_uri": "https://localhost:8080/"
        },
        "id": "ljMO9qDrff-B",
        "outputId": "1ceb5063-6c87-4a0b-d706-eb85261ba6b7"
      },
      "source": [
        "comp_onda = 632.8*10**(-9) # comprimento de onda em metros\n",
        "dist_ant = 1.98 # distância do laser ao anteparo em metros\n",
        "dist_fenda = 0.250*10**(-3) # espaçamento entre as fendas em metros\n",
        "\n",
        "dist_maximos=((comp_onda*dist_ant)/dist_fenda)*(10**(3)) # distância entre máximos em milimetros\n",
        "\n",
        "print('A distância entre dois máximos é de', round(dist_maximos_mm,2), 'milimetros.')"
      ],
      "execution_count": null,
      "outputs": [
        {
          "output_type": "stream",
          "text": [
            "A distância entre dois máximos é de 5.01 milimetros.\n"
          ],
          "name": "stdout"
        }
      ]
    }
  ]
}