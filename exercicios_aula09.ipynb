{
  "nbformat": 4,
  "nbformat_minor": 0,
  "metadata": {
    "colab": {
      "name": "exercicios_aula09.ipynb",
      "provenance": [],
      "authorship_tag": "ABX9TyPLVrOGvyf5N4TtF2lQ2O7k",
      "include_colab_link": true
    },
    "kernelspec": {
      "name": "python3",
      "display_name": "Python 3"
    },
    "language_info": {
      "name": "python"
    }
  },
  "cells": [
    {
      "cell_type": "markdown",
      "metadata": {
        "id": "view-in-github",
        "colab_type": "text"
      },
      "source": [
        "<a href=\"https://colab.research.google.com/github/cvbrito/python_uerj_2021/blob/main/exercicios_aula09.ipynb\" target=\"_parent\"><img src=\"https://colab.research.google.com/assets/colab-badge.svg\" alt=\"Open In Colab\"/></a>"
      ]
    },
    {
      "cell_type": "markdown",
      "metadata": {
        "id": "hJ2zPapf13vL"
      },
      "source": [
        "## **Exercícios de aula**"
      ]
    },
    {
      "cell_type": "markdown",
      "metadata": {
        "id": "8JoTPN-stt3k"
      },
      "source": [
        "**Exercício 1 - Função modificadora/Função pura**"
      ]
    },
    {
      "cell_type": "code",
      "metadata": {
        "colab": {
          "base_uri": "https://localhost:8080/"
        },
        "id": "OEu2CNVLtpfB",
        "outputId": "621493bc-a90e-4608-c698-abac69e27ccb"
      },
      "source": [
        "def dobrar_elementos(uma_lista):\n",
        "    \"\"\" Toma como argumento 'uma_lista' e retorna uma lista 'nova_lista' com o dobro de seus valores originais.\n",
        "    \"\"\"    \n",
        "    nova_lista = uma_lista[:]\n",
        "    for (i, valor) in enumerate(uma_lista):\n",
        "        novo_elem = 2 * valor\n",
        "        nova_lista[i] = novo_elem\n",
        "\n",
        "    return nova_lista\n",
        "\n",
        "help(dobrar_elementos)\n",
        "\n",
        "minha_lista = [2, 4, 6]\n",
        "print(minha_lista)\n",
        "minha_lista_dobrada = dobrar_elementos(minha_lista)\n",
        "print(minha_lista_dobrada)\n",
        "print(minha_lista)"
      ],
      "execution_count": null,
      "outputs": [
        {
          "output_type": "stream",
          "name": "stdout",
          "text": [
            "Help on function dobrar_elementos in module __main__:\n",
            "\n",
            "dobrar_elementos(uma_lista)\n",
            "    Toma como argumento 'uma_lista' e retorna uma lista 'nova_lista' com o dobro de seus valores originais.\n",
            "\n",
            "[2, 4, 6]\n",
            "[4, 8, 12]\n",
            "[2, 4, 6]\n"
          ]
        }
      ]
    },
    {
      "cell_type": "markdown",
      "metadata": {
        "id": "zQ256eqY2xJf"
      },
      "source": [
        "**Exercício 1 - Solução alternativa: list comprehension** "
      ]
    },
    {
      "cell_type": "code",
      "metadata": {
        "colab": {
          "base_uri": "https://localhost:8080/"
        },
        "id": "owu7mueE2M3_",
        "outputId": "26724ce1-12ea-4d97-e5a6-a4f4d9bbf4f9"
      },
      "source": [
        "minha_lista = [2, 4, 6]\n",
        "\n",
        "lista_dobrada = [2 * minha_lista[i] for i in range(len(minha_lista))]\n",
        "\n",
        "print(minha_lista)\n",
        "print(lista_dobrada)\n",
        "print(minha_lista)"
      ],
      "execution_count": null,
      "outputs": [
        {
          "output_type": "stream",
          "name": "stdout",
          "text": [
            "[2, 4, 6]\n",
            "[4, 8, 12]\n",
            "[2, 4, 6]\n"
          ]
        }
      ]
    },
    {
      "cell_type": "markdown",
      "metadata": {
        "id": "lrfDrOac169f"
      },
      "source": [
        "## **Exercícios de casa**"
      ]
    },
    {
      "cell_type": "markdown",
      "metadata": {
        "id": "tO22OZco19S4"
      },
      "source": [
        "**Exercício 1 - Histograma a partir dos dados de um arquivo de dados**"
      ]
    },
    {
      "cell_type": "code",
      "metadata": {
        "colab": {
          "base_uri": "https://localhost:8080/"
        },
        "id": "8sLqg0fIx7vL",
        "outputId": "792d2864-9ed2-4af3-fed4-a580422f56b1"
      },
      "source": [
        "%%writefile dados_alunos.txt\n",
        "18\t1.68\t80\n",
        "18\t1.94\t60\n",
        "18\t1.70\t80\n",
        "18\t1.76\t66\n",
        "19\t1.73\t87.5\n",
        "18\t1.66\t58\n",
        "21\t1.80\t92\n",
        "18\t1.60\t57\n",
        "18\t1.67\t64\n",
        "18\t1.73\t57\n",
        "17\t1.73\t75\n",
        "18\t1.61\t59\n",
        "18\t1.69\t90\n",
        "17\t1.71\t67\n",
        "19\t1.78\t60\n",
        "22\t1.68\t72\n",
        "18\t1.70\t73\n",
        "19\t1.64\t86\n",
        "18\t1.64\t75\n",
        "20\t1.80\t95\n",
        "17\t1.75\t60\n",
        "18\t1.78\t75\n",
        "18\t1.75\t65\n",
        "17\t1.69\t60\n",
        "19\t1.78\t73\n",
        "18\t1.70\t63\n",
        "34\t1.75\t78\n",
        "18\t1.64\t64\n",
        "19\t1.75\t50\n",
        "18\t1.67\t61\n",
        "18\t1.70\t70\n",
        "20\t1.80\t60\n",
        "18\t1.63\t57\n",
        "23\t1.89\t110\n",
        "18\t1.71\t71\n",
        "18\t1.65\t65\n",
        "17\t1.72\t67\n",
        "19\t1.65\t58\n",
        "18\t1.75\t90\n",
        "18\t1.70\t64\n",
        "19\t1.81\t70\n",
        "19\t1.65\t43\n",
        "28\t1.52\t50\n",
        "19\t1.79\t78\n",
        "26\t1.79\t82\n",
        "19\t1.75\t61\n",
        "19\t1.80\t70\n",
        "20\t1.75\t70\n",
        "20\t1.73\t70\n",
        "19\t1.70\t50\n",
        "22\t1.78\t72\n",
        "19\t1.77\t55\n",
        "18\t1.53\t58\n",
        "28\t1.54\t50\n",
        "20\t1.83\t70\n",
        "44\t1.85\t90\n",
        "18\t1.60\t51"
      ],
      "execution_count": null,
      "outputs": [
        {
          "output_type": "stream",
          "name": "stdout",
          "text": [
            "Overwriting dados_alunos.txt\n"
          ]
        }
      ]
    },
    {
      "cell_type": "code",
      "metadata": {
        "colab": {
          "base_uri": "https://localhost:8080/"
        },
        "id": "k_BTlt9l1Cm1",
        "outputId": "2beac3c6-c597-4153-aa10-c02697de7d9c"
      },
      "source": [
        "%cat dados_alunos.txt"
      ],
      "execution_count": null,
      "outputs": [
        {
          "output_type": "stream",
          "name": "stdout",
          "text": [
            "18\t1.68\t80\n",
            "18\t1.94\t60\n",
            "18\t1.70\t80\n",
            "18\t1.76\t66\n",
            "19\t1.73\t87.5\n",
            "18\t1.66\t58\n",
            "21\t1.80\t92\n",
            "18\t1.60\t57\n",
            "18\t1.67\t64\n",
            "18\t1.73\t57\n",
            "17\t1.73\t75\n",
            "18\t1.61\t59\n",
            "18\t1.69\t90\n",
            "17\t1.71\t67\n",
            "19\t1.78\t60\n",
            "22\t1.68\t72\n",
            "18\t1.70\t73\n",
            "19\t1.64\t86\n",
            "18\t1.64\t75\n",
            "20\t1.80\t95\n",
            "17\t1.75\t60\n",
            "18\t1.78\t75\n",
            "18\t1.75\t65\n",
            "17\t1.69\t60\n",
            "19\t1.78\t73\n",
            "18\t1.70\t63\n",
            "34\t1.75\t78\n",
            "18\t1.64\t64\n",
            "19\t1.75\t50\n",
            "18\t1.67\t61\n",
            "18\t1.70\t70\n",
            "20\t1.80\t60\n",
            "18\t1.63\t57\n",
            "23\t1.89\t110\n",
            "18\t1.71\t71\n",
            "18\t1.65\t65\n",
            "17\t1.72\t67\n",
            "19\t1.65\t58\n",
            "18\t1.75\t90\n",
            "18\t1.70\t64\n",
            "19\t1.81\t70\n",
            "19\t1.65\t43\n",
            "28\t1.52\t50\n",
            "19\t1.79\t78\n",
            "26\t1.79\t82\n",
            "19\t1.75\t61\n",
            "19\t1.80\t70\n",
            "20\t1.75\t70\n",
            "20\t1.73\t70\n",
            "19\t1.70\t50\n",
            "22\t1.78\t72\n",
            "19\t1.77\t55\n",
            "18\t1.53\t58\n",
            "28\t1.54\t50\n",
            "20\t1.83\t70\n",
            "44\t1.85\t90\n",
            "18\t1.60\t51"
          ]
        }
      ]
    },
    {
      "cell_type": "code",
      "metadata": {
        "id": "CRebvcRq1_tr",
        "colab": {
          "base_uri": "https://localhost:8080/",
          "height": 295
        },
        "outputId": "2e9f6883-9c2d-4a9e-a06d-9fa99beb658f"
      },
      "source": [
        "import matplotlib.pyplot as plt\n",
        "\n",
        "f = open('dados_alunos.txt', 'r')\n",
        "\n",
        "col_idade = [] #criando listas vazias\n",
        "col_altura = []\n",
        "col_massa = []\n",
        "\n",
        "for line in f:\n",
        "  linha = line.strip().split('\\t')\n",
        "  col_idade.append(int(linha[0])) # adicionando os elementos de cada coluna às respectivas listas\n",
        "  col_altura.append(float(linha[1]))\n",
        "  col_massa.append(float(linha[2]))\n",
        "\n",
        "plt.hist(col_idade, bins=20)\n",
        "plt.title('Idade dos alunos de Física Geral')\n",
        "plt.ylabel('Número de alunos')\n",
        "plt.xlabel('Idade (anos)')\n",
        "plt.show()"
      ],
      "execution_count": null,
      "outputs": [
        {
          "output_type": "display_data",
          "data": {
            "image/png": "[encoded data removed]",
            "text/plain": [
              "<Figure size 432x288 with 1 Axes>"
            ]
          },
          "metadata": {
            "needs_background": "light"
          }
        }
      ]
    },
    {
      "cell_type": "code",
      "metadata": {
        "colab": {
          "base_uri": "https://localhost:8080/",
          "height": 295
        },
        "id": "b9sC7LJY22Rq",
        "outputId": "9d1c7eb6-df28-4775-e6aa-e0e32b2f0941"
      },
      "source": [
        "import matplotlib.pyplot as plt\n",
        "\n",
        "plt.hist(col_massa, bins=20)\n",
        "plt.title('Massa dos alunos de Física Geral')\n",
        "plt.ylabel('Número de alunos')\n",
        "plt.xlabel('Massa (kg)')\n",
        "plt.show()"
      ],
      "execution_count": null,
      "outputs": [
        {
          "output_type": "display_data",
          "data": {
            "image/png": "[encoded data removed]",
            "text/plain": [
              "<Figure size 432x288 with 1 Axes>"
            ]
          },
          "metadata": {
            "needs_background": "light"
          }
        }
      ]
    },
    {
      "cell_type": "code",
      "metadata": {
        "colab": {
          "base_uri": "https://localhost:8080/",
          "height": 295
        },
        "id": "-QnSndbX3Aj-",
        "outputId": "9a81029a-6fe6-4591-d93a-c519b3d3818e"
      },
      "source": [
        "import matplotlib.pyplot as plt\n",
        "\n",
        "plt.hist(col_altura, bins=20, density = True)\n",
        "plt.title('Altura dos alunos de Física Geral')\n",
        "plt.ylabel('Número de alunos')\n",
        "plt.xlabel('Altura (m)')\n",
        "plt.show()"
      ],
      "execution_count": null,
      "outputs": [
        {
          "output_type": "display_data",
          "data": {
            "image/png": "[encoded data removed]",
            "text/plain": [
              "<Figure size 432x288 with 1 Axes>"
            ]
          },
          "metadata": {
            "needs_background": "light"
          }
        }
      ]
    },
    {
      "cell_type": "markdown",
      "metadata": {
        "id": "DC6ST_tDPoR9"
      },
      "source": [
        "**Exercício 3 - Criando um módulo**"
      ]
    },
    {
      "cell_type": "code",
      "metadata": {
        "colab": {
          "base_uri": "https://localhost:8080/"
        },
        "id": "q8QfcgmfPnqx",
        "outputId": "6d0085e1-3e16-4e3f-ab33-f479c691374d"
      },
      "source": [
        "%%writefile lcount.py\n",
        "\n",
        "def linecount(filename):\n",
        "    count = 0\n",
        "    for line in open(filename):\n",
        "        count += 1\n",
        "    return count\n",
        "\n",
        "#linecount('lcount.py')"
      ],
      "execution_count": null,
      "outputs": [
        {
          "output_type": "stream",
          "name": "stdout",
          "text": [
            "Overwriting lcount.py\n"
          ]
        }
      ]
    },
    {
      "cell_type": "code",
      "metadata": {
        "colab": {
          "base_uri": "https://localhost:8080/"
        },
        "id": "mG--S1R1PtZe",
        "outputId": "258d4937-f19f-4212-c222-6d82bf1f6b44"
      },
      "source": [
        "%cat lcount.py"
      ],
      "execution_count": null,
      "outputs": [
        {
          "output_type": "stream",
          "name": "stdout",
          "text": [
            "\n",
            "def linecount(filename):\n",
            "    count = 0\n",
            "    for line in open(filename):\n",
            "        count += 1\n",
            "    return count\n",
            "\n",
            "#linecount('lcount.py')"
          ]
        }
      ]
    },
    {
      "cell_type": "code",
      "metadata": {
        "colab": {
          "base_uri": "https://localhost:8080/"
        },
        "id": "pJei_QczPwrk",
        "outputId": "3dd312fd-7e79-4015-8819-ac668b00a042"
      },
      "source": [
        "import lcount\n",
        "\n",
        "lcount.linecount('lcount.py')"
      ],
      "execution_count": null,
      "outputs": [
        {
          "output_type": "execute_result",
          "data": {
            "text/plain": [
              "8"
            ]
          },
          "metadata": {},
          "execution_count": 37
        }
      ]
    },
    {
      "cell_type": "markdown",
      "metadata": {
        "id": "7EvKvJpX3Ibv"
      },
      "source": [
        "**Exercício 4 - Usando dicionários**"
      ]
    },
    {
      "cell_type": "code",
      "metadata": {
        "colab": {
          "base_uri": "https://localhost:8080/"
        },
        "id": "mLxRn0I_Jy5t",
        "outputId": "845d5cc7-e7ca-4da0-833e-31509ca7d366"
      },
      "source": [
        "def ler_arquivos(filename):\n",
        "  ''' Parte 1: Cria um dicionário cujas keys são as linhas e os valores são listas com os valores de cada linha do arquivo de texto. '''\n",
        "  try:\n",
        "    f = open(filename, 'r')\n",
        "    dict_col = {}\n",
        "    n = 1\n",
        "    for line in f:\n",
        "      linha = line.strip().split('\\t')\n",
        "      dict_col[n] = linha\n",
        "      n = n+1\n",
        "    return dict_col\n",
        "  except:\n",
        "    print('Erro!')\n",
        "\n",
        "def ler_arquivos2(filename):\n",
        "  ''' Parte 2: Cria uma lista de listas, cujos elementos são as colunas do arquivo de texto'''\n",
        "  dicio = ler_arquivos(filename)\n",
        "  num_listas = len(dicio[1])\n",
        "  num_elem_listas = len(dicio)\n",
        "  lista_listas = [] # lista cujos elementos serão listas dos elementos das coluna do arquivo texto\n",
        "  \n",
        "  for i in range(num_listas):\n",
        "    lista_iterativa = [] # criando uma lista vazia que será reiniciada a cada iteração\n",
        "    for j in range(num_elem_listas):\n",
        "      lista_dicio = dicio[j+1]\n",
        "      lista_iterativa.append(float(lista_dicio[i]))\n",
        "    lista_listas.append(lista_iterativa)\n",
        "  return lista_listas\n",
        "\n",
        "def ler_arquivos3(filename):\n",
        "  ''' Parte 3: Por fim, cria-se um dicionário cujas keys são os números das colunas e cujos valores são os valores de cada coluna.'''\n",
        "  lista_listas = ler_arquivos2(filename)\n",
        "  dicio_col = {}  # criando um dicionário vazio\n",
        "  for i in range(len(lista_listas)):\n",
        "    dicio_col[i+1] = lista_listas[i] # introduzindo a este dicionário os elementos da 'lista de listas'\n",
        "  return dicio_col\n",
        "\n",
        "a = ler_arquivos3('/content/dados_alunos.txt')\n",
        "print(a)"
      ],
      "execution_count": null,
      "outputs": [
        {
          "output_type": "stream",
          "name": "stdout",
          "text": [
            "{1: [18.0, 18.0, 18.0, 18.0, 19.0, 18.0, 21.0, 18.0, 18.0, 18.0, 17.0, 18.0, 18.0, 17.0, 19.0, 22.0, 18.0, 19.0, 18.0, 20.0, 17.0, 18.0, 18.0, 17.0, 19.0, 18.0, 34.0, 18.0, 19.0, 18.0, 18.0, 20.0, 18.0, 23.0, 18.0, 18.0, 17.0, 19.0, 18.0, 18.0, 19.0, 19.0, 28.0, 19.0, 26.0, 19.0, 19.0, 20.0, 20.0, 19.0, 22.0, 19.0, 18.0, 28.0, 20.0, 44.0, 18.0], 2: [1.68, 1.94, 1.7, 1.76, 1.73, 1.66, 1.8, 1.6, 1.67, 1.73, 1.73, 1.61, 1.69, 1.71, 1.78, 1.68, 1.7, 1.64, 1.64, 1.8, 1.75, 1.78, 1.75, 1.69, 1.78, 1.7, 1.75, 1.64, 1.75, 1.67, 1.7, 1.8, 1.63, 1.89, 1.71, 1.65, 1.72, 1.65, 1.75, 1.7, 1.81, 1.65, 1.52, 1.79, 1.79, 1.75, 1.8, 1.75, 1.73, 1.7, 1.78, 1.77, 1.53, 1.54, 1.83, 1.85, 1.6], 3: [80.0, 60.0, 80.0, 66.0, 87.5, 58.0, 92.0, 57.0, 64.0, 57.0, 75.0, 59.0, 90.0, 67.0, 60.0, 72.0, 73.0, 86.0, 75.0, 95.0, 60.0, 75.0, 65.0, 60.0, 73.0, 63.0, 78.0, 64.0, 50.0, 61.0, 70.0, 60.0, 57.0, 110.0, 71.0, 65.0, 67.0, 58.0, 90.0, 64.0, 70.0, 43.0, 50.0, 78.0, 82.0, 61.0, 70.0, 70.0, 70.0, 50.0, 72.0, 55.0, 58.0, 50.0, 70.0, 90.0, 51.0]}\n"
          ]
        }
      ]
    },
    {
      "cell_type": "code",
      "metadata": {
        "colab": {
          "base_uri": "https://localhost:8080/"
        },
        "id": "GiXuTzdf-cb8",
        "outputId": "d4dbd883-f8ae-471a-8753-d55b2fdbf099"
      },
      "source": [
        "# Implementando tudo em uma única função:\n",
        "\n",
        "def ler_arquivos(filename):\n",
        "  try:\n",
        "    f = open(filename, 'r')\n",
        "    dict_col = {}\n",
        "    n = 1\n",
        "    for line in f:\n",
        "      linha = line.strip().split('\\t')\n",
        "      dict_col[n] = linha\n",
        "      n = n+1\n",
        "    dicio = dict_col\n",
        "    num_listas = len(dicio[1])\n",
        "    num_elem_listas = len(dicio)\n",
        "    lista_listas = [] # lista cujos elementos serão listas dos elementos das coluna do arquivo texto\n",
        "  \n",
        "    for i in range(num_listas):\n",
        "      lista_iterativa = [] # criando uma lista vazia que será reiniciada a cada iteração\n",
        "      for j in range(num_elem_listas):\n",
        "        lista_dicio = dicio[j+1]\n",
        "        lista_iterativa.append(float(lista_dicio[i]))\n",
        "      lista_listas.append(lista_iterativa)\n",
        "    dicio_col = {}  # criando um dicionário vazio\n",
        "    for i in range(len(lista_listas)):\n",
        "      dicio_col[i+1] = lista_listas[i] # introduzindo a este dicionário os elementos da 'lista de listas'\n",
        "    return dicio_col\n",
        "  except:\n",
        "    print('Erro!')\n",
        "\n",
        "# Teste\n",
        "a = ler_arquivos('/content/dados_alunos.txt')\n",
        "print(a)"
      ],
      "execution_count": null,
      "outputs": [
        {
          "output_type": "stream",
          "name": "stdout",
          "text": [
            "{1: [18.0, 18.0, 18.0, 18.0, 19.0, 18.0, 21.0, 18.0, 18.0, 18.0, 17.0, 18.0, 18.0, 17.0, 19.0, 22.0, 18.0, 19.0, 18.0, 20.0, 17.0, 18.0, 18.0, 17.0, 19.0, 18.0, 34.0, 18.0, 19.0, 18.0, 18.0, 20.0, 18.0, 23.0, 18.0, 18.0, 17.0, 19.0, 18.0, 18.0, 19.0, 19.0, 28.0, 19.0, 26.0, 19.0, 19.0, 20.0, 20.0, 19.0, 22.0, 19.0, 18.0, 28.0, 20.0, 44.0, 18.0], 2: [1.68, 1.94, 1.7, 1.76, 1.73, 1.66, 1.8, 1.6, 1.67, 1.73, 1.73, 1.61, 1.69, 1.71, 1.78, 1.68, 1.7, 1.64, 1.64, 1.8, 1.75, 1.78, 1.75, 1.69, 1.78, 1.7, 1.75, 1.64, 1.75, 1.67, 1.7, 1.8, 1.63, 1.89, 1.71, 1.65, 1.72, 1.65, 1.75, 1.7, 1.81, 1.65, 1.52, 1.79, 1.79, 1.75, 1.8, 1.75, 1.73, 1.7, 1.78, 1.77, 1.53, 1.54, 1.83, 1.85, 1.6], 3: [80.0, 60.0, 80.0, 66.0, 87.5, 58.0, 92.0, 57.0, 64.0, 57.0, 75.0, 59.0, 90.0, 67.0, 60.0, 72.0, 73.0, 86.0, 75.0, 95.0, 60.0, 75.0, 65.0, 60.0, 73.0, 63.0, 78.0, 64.0, 50.0, 61.0, 70.0, 60.0, 57.0, 110.0, 71.0, 65.0, 67.0, 58.0, 90.0, 64.0, 70.0, 43.0, 50.0, 78.0, 82.0, 61.0, 70.0, 70.0, 70.0, 50.0, 72.0, 55.0, 58.0, 50.0, 70.0, 90.0, 51.0]}\n"
          ]
        }
      ]
    },
    {
      "cell_type": "markdown",
      "metadata": {
        "id": "xcuym-RwZPKn"
      },
      "source": [
        "**Exercício 5 - Adaptando o script em um módulo**"
      ]
    },
    {
      "cell_type": "code",
      "metadata": {
        "id": "Y4lnj1FMZSof",
        "colab": {
          "base_uri": "https://localhost:8080/"
        },
        "outputId": "6cb49417-7a2c-49d0-daa1-de92b5ab818c"
      },
      "source": [
        "%%writefile leitura.py\n",
        "\n",
        "def ler_arquivos(filename):\n",
        "  try:\n",
        "    f = open(filename, 'r')\n",
        "    dict_col = {}\n",
        "    n = 1\n",
        "    for line in f:\n",
        "      linha = line.strip().split('\\t')\n",
        "      dict_col[n] = linha\n",
        "      n = n+1\n",
        "    dicio = dict_col\n",
        "    num_listas = len(dicio[1])\n",
        "    num_elem_listas = len(dicio)\n",
        "    lista_listas = [] # lista cujos elementos serão listas dos elementos das coluna do arquivo texto\n",
        "  \n",
        "    for i in range(num_listas):\n",
        "      lista_iterativa = [] # criando uma lista vazia que será reiniciada a cada iteração\n",
        "      for j in range(num_elem_listas):\n",
        "        lista_dicio = dicio[j+1]\n",
        "        lista_iterativa.append(float(lista_dicio[i]))\n",
        "      lista_listas.append(lista_iterativa)\n",
        "    dicio_col = {}  # criando um dicionário vazio\n",
        "    for i in range(len(lista_listas)):\n",
        "      dicio_col[i+1] = lista_listas[i] # introduzindo a este dicionário os elementos da 'lista de listas'\n",
        "    return dicio_col\n",
        "  except:\n",
        "    print('Erro!')"
      ],
      "execution_count": null,
      "outputs": [
        {
          "output_type": "stream",
          "name": "stdout",
          "text": [
            "Overwriting leitura.py\n"
          ]
        }
      ]
    },
    {
      "cell_type": "code",
      "metadata": {
        "colab": {
          "base_uri": "https://localhost:8080/"
        },
        "id": "HB8UTGIqRm0_",
        "outputId": "b29b9bfe-0c08-4ff7-8e96-5aac1f1f9d8d"
      },
      "source": [
        "%cat leitura.py"
      ],
      "execution_count": null,
      "outputs": [
        {
          "output_type": "stream",
          "name": "stdout",
          "text": [
            "\n",
            "def ler_arquivos(filename):\n",
            "  try:\n",
            "    f = open(filename, 'r')\n",
            "    dict_col = {}\n",
            "    n = 1\n",
            "    for line in f:\n",
            "      linha = line.strip().split('\\t')\n",
            "      dict_col[n] = linha\n",
            "      n = n+1\n",
            "    dicio = dict_col\n",
            "    num_listas = len(dicio[1])\n",
            "    num_elem_listas = len(dicio)\n",
            "    lista_listas = [] # lista cujos elementos serão listas dos elementos das coluna do arquivo texto\n",
            "  \n",
            "    for i in range(num_listas):\n",
            "      lista_iterativa = [] # criando uma lista vazia que será reiniciada a cada iteração\n",
            "      for j in range(num_elem_listas):\n",
            "        lista_dicio = dicio[j+1]\n",
            "        lista_iterativa.append(float(lista_dicio[i]))\n",
            "      lista_listas.append(lista_iterativa)\n",
            "    dicio_col = {}  # criando um dicionário vazio\n",
            "    for i in range(len(lista_listas)):\n",
            "      dicio_col[i+1] = lista_listas[i] # introduzindo a este dicionário os elementos da 'lista de listas'\n",
            "    return dicio_col\n",
            "  except:\n",
            "    print('Erro!')"
          ]
        }
      ]
    },
    {
      "cell_type": "markdown",
      "metadata": {
        "id": "h3Xl26gXRpwu"
      },
      "source": [
        "**Exercício 6 - Histograma a partir do módulo**"
      ]
    },
    {
      "cell_type": "code",
      "metadata": {
        "colab": {
          "base_uri": "https://localhost:8080/",
          "height": 283
        },
        "id": "NHSJ7eXKtkae",
        "outputId": "f31032fa-2ed6-43da-a723-04ff22bea2e5"
      },
      "source": [
        "import leitura\n",
        "import matplotlib.pyplot as plt\n",
        "\n",
        "dicio = leitura.ler_arquivos('/content/dados_alunos.txt') # atribuindo o output da função a um dicionário 'dicio'\n",
        "lista1 = dicio[1]  # atribuindo listas a cada valor de 'dicio'\n",
        "lista2 = dicio[2]\n",
        "lista3 = dicio[3]\n",
        "\n",
        "plt.hist(lista2, bins=20)\n",
        "plt.show()"
      ],
      "execution_count": null,
      "outputs": [
        {
          "output_type": "display_data",
          "data": {
            "image/png": "[encoded data removed]",
            "text/plain": [
              "<Figure size 432x288 with 1 Axes>"
            ]
          },
          "metadata": {
            "needs_background": "light"
          }
        },
        {
          "output_type": "stream",
          "name": "stdout",
          "text": [
            "3\n"
          ]
        }
      ]
    },
    {
      "cell_type": "markdown",
      "metadata": {
        "id": "OLh3DfQz5iSx"
      },
      "source": [
        "**Exercício 7 - Calculando desvio padrão**"
      ]
    },
    {
      "cell_type": "code",
      "metadata": {
        "colab": {
          "base_uri": "https://localhost:8080/"
        },
        "id": "kBs4WSNB5lIn",
        "outputId": "f30033c4-2388-431e-b7a8-5317aa87896b"
      },
      "source": [
        "import leitura\n",
        "from statistics import *\n",
        "\n",
        "dicio = leitura.ler_arquivos('/content/dados_alunos.txt') # atribuindo o output da função a um dicionário 'dicio'\n",
        "lista_listas = [] # criando uma lista vazia onde serão alocados os valores do dicionário 'dicio'\n",
        "\n",
        "for i in range(len(dicio)):\n",
        "  i = i+1\n",
        "  lista_listas.append(dicio[i])\n",
        "\n",
        "def estatistica_lista(i):\n",
        "  ''' Calcula o desvio padrão amostral, desvio padrão populacional e média do i-ésimo elemento de uma lista cujos elementos são os valores associados a uma chave do dicionário 'dicio' '''\n",
        "  media = mean(lista_listas[i]) # calcula a média\n",
        "  desv_pad = stdev(lista_listas[i]) # calcula o desvio padrão amostral\n",
        "  desv_pop = pstdev(lista_listas[i])  # calcula o desvio padrão populacional\n",
        "  print ('A média é:', round(media, 2), '\\nO desvio padrão amostral é:', round(desv_pad, 2), '\\nO desvio padrão populacional é:', round(desv_pop, 2))\n",
        "\n",
        "estatistica_lista(2)"
      ],
      "execution_count": null,
      "outputs": [
        {
          "output_type": "stream",
          "name": "stdout",
          "text": [
            "A média é: 68.5 \n",
            "O desvio padrão amostral é: 13.23 \n",
            "O desvio padrão populacional é: 13.11\n"
          ]
        }
      ]
    }
  ]
}