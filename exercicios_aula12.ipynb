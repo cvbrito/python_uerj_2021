{
  "nbformat": 4,
  "nbformat_minor": 0,
  "metadata": {
    "colab": {
      "name": "exercicios_aula12.ipynb",
      "provenance": [],
      "authorship_tag": "ABX9TyPcWtqwlJ/GG30yXQFDpn5v",
      "include_colab_link": true
    },
    "kernelspec": {
      "name": "python3",
      "display_name": "Python 3"
    },
    "language_info": {
      "name": "python"
    }
  },
  "cells": [
    {
      "cell_type": "markdown",
      "metadata": {
        "id": "view-in-github",
        "colab_type": "text"
      },
      "source": [
        "<a href=\"https://colab.research.google.com/github/cvbrito/python_uerj_2021/blob/main/exercicios_aula12.ipynb\" target=\"_parent\"><img src=\"https://colab.research.google.com/assets/colab-badge.svg\" alt=\"Open In Colab\"/></a>"
      ]
    },
    {
      "cell_type": "markdown",
      "metadata": {
        "id": "IWetChX8-adv"
      },
      "source": [
        "A classe **Ponto**"
      ]
    },
    {
      "cell_type": "code",
      "metadata": {
        "id": "wLIDPQBXWnKS"
      },
      "source": [
        "class Ponto:\n",
        "\n",
        "  def __init__(self, x=0, y=0):\n",
        "    self.x = x\n",
        "    self.y = y\n",
        "\n",
        "  def distancia_origem(self):\n",
        "    ''' Calcula a distância de um ponto até a origem '''\n",
        "    return  ((self.x)**2+(self.y**2))\n",
        "\n",
        "  def inclinacao_origem(self):\n",
        "    ''' Calcula a tangente da reta que liga a origem ao ponto '''\n",
        "    if self.x == 0:\n",
        "      print('Erro: divisão por zero. Reta vertical.') # lidando com casos passíveis de erro\n",
        "    else:\n",
        "      return (self.y/self.x)\n",
        "\n",
        "  def distancia_pontos(self, target):\n",
        "    ''' Calcula a distancia entre dois pontos '''\n",
        "    delta_x = (self.x-target.x)**2\n",
        "    delta_y = (self.y-target.y)**2\n",
        "    distancia = (delta_x+delta_y)**.5\n",
        "    return(distancia)\n",
        "  \n",
        "  def reflexao_x(self):\n",
        "    ''' Calcula a reflexão de um ponto sobre o eixo x fazendo y -> -y '''\n",
        "    self.y = -self.y\n",
        "    return(Ponto(self.x, self.y))\n",
        "\n",
        "  def equacao_reta(self, target):\n",
        "    ''' Retorna os coeficientes angular e linear da reta que liga dois pontos '''\n",
        "    delta_x = target.x - self.x\n",
        "    delta_y = target.y - self.y\n",
        "    \n",
        "    if delta_x == 0:  # lidando com casos passíveis de erro\n",
        "      print('Os pontos estão conectados por uma reta vertical.')\n",
        "    elif delta_y == 0 :\n",
        "      print('Os pontos estão conectados por uma reta horizontal.')\n",
        "      return(print(Ponto(0, self.y)))\n",
        "\n",
        "    if delta_x != 0 and delta_y != 0:\n",
        "      alpha = (delta_y)/(delta_x) # coeficiente angular\n",
        "      beta = ((self.y + target.y)-alpha*(self.x + target.x))/2  # coeficiente linear\n",
        "      return (print(Ponto(alpha, beta)))\n",
        "\n",
        "  def __str__(self):\n",
        "    ''' Printar o ponto como uma string '''\n",
        "    return \"({0}, {1})\".format(self.x, self.y)\n",
        "\n",
        "p = Ponto(-1,5)  # definindo pontos de teste\n",
        "q = Ponto(3,4)"
      ],
      "execution_count": null,
      "outputs": []
    },
    {
      "cell_type": "markdown",
      "metadata": {
        "id": "0UWPdg9AdU26"
      },
      "source": [
        "**1. Distância entre dois pontos**"
      ]
    },
    {
      "cell_type": "code",
      "metadata": {
        "colab": {
          "base_uri": "https://localhost:8080/"
        },
        "id": "b5nLsANedXH6",
        "outputId": "bdb97a6e-6bb4-48cb-e5ec-bb95374c60f0"
      },
      "source": [
        "q.distancia_pontos(p)"
      ],
      "execution_count": null,
      "outputs": [
        {
          "output_type": "execute_result",
          "data": {
            "text/plain": [
              "4.123105625617661"
            ]
          },
          "metadata": {},
          "execution_count": 39
        }
      ]
    },
    {
      "cell_type": "markdown",
      "metadata": {
        "id": "2JQFTa-1c6JZ"
      },
      "source": [
        "**2. Reflexão sobre o eixo x**"
      ]
    },
    {
      "cell_type": "code",
      "metadata": {
        "colab": {
          "base_uri": "https://localhost:8080/"
        },
        "id": "GS4Od99Qc9Kq",
        "outputId": "b1edcf3d-ce69-410c-c84b-0976449f92a7"
      },
      "source": [
        "print(q.reflexao_x())"
      ],
      "execution_count": null,
      "outputs": [
        {
          "output_type": "stream",
          "name": "stdout",
          "text": [
            "(3, -4)\n"
          ]
        }
      ]
    },
    {
      "cell_type": "markdown",
      "metadata": {
        "id": "J75jfeFicwxJ"
      },
      "source": [
        "**3. Inclinação da reta que une o ponto à origem**"
      ]
    },
    {
      "cell_type": "code",
      "metadata": {
        "colab": {
          "base_uri": "https://localhost:8080/"
        },
        "id": "8B4KT-15czWm",
        "outputId": "a117c44e-6d12-4259-cb93-038fcd708f21"
      },
      "source": [
        "p.inclinacao_origem()"
      ],
      "execution_count": null,
      "outputs": [
        {
          "output_type": "execute_result",
          "data": {
            "text/plain": [
              "-5.0"
            ]
          },
          "metadata": {},
          "execution_count": 41
        }
      ]
    },
    {
      "cell_type": "markdown",
      "metadata": {
        "id": "CfDQUAQpdHil"
      },
      "source": [
        "**4. Equação da reta que liga dois pontos**"
      ]
    },
    {
      "cell_type": "code",
      "metadata": {
        "colab": {
          "base_uri": "https://localhost:8080/"
        },
        "id": "2LizPiSLdoQR",
        "outputId": "34016350-49c4-4c62-cce7-b100921c6a01"
      },
      "source": [
        "p.equacao_reta(q)"
      ],
      "execution_count": null,
      "outputs": [
        {
          "output_type": "stream",
          "name": "stdout",
          "text": [
            "(-0.25, 4.75)\n"
          ]
        }
      ]
    }
  ]
}