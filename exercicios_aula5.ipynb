{
  "nbformat": 4,
  "nbformat_minor": 0,
  "metadata": {
    "colab": {
      "name": "exercicios_aula5.ipynb",
      "provenance": [],
      "authorship_tag": "ABX9TyPQAK6hbPb8tXfRJtmwOZUc",
      "include_colab_link": true
    },
    "kernelspec": {
      "name": "python3",
      "display_name": "Python 3"
    },
    "language_info": {
      "name": "python"
    }
  },
  "cells": [
    {
      "cell_type": "markdown",
      "metadata": {
        "id": "view-in-github",
        "colab_type": "text"
      },
      "source": [
        "<a href=\"https://colab.research.google.com/github/cvbrito/python_uerj_2021/blob/main/exercicios_aula5.ipynb\" target=\"_parent\"><img src=\"https://colab.research.google.com/assets/colab-badge.svg\" alt=\"Open In Colab\"/></a>"
      ]
    },
    {
      "cell_type": "markdown",
      "metadata": {
        "id": "ZumABtwr8_cw"
      },
      "source": [
        "## **Exercícios - Parte 1**"
      ]
    },
    {
      "cell_type": "markdown",
      "metadata": {
        "id": "fGU2MwTdSORP"
      },
      "source": [
        "**Exercício 1 - Input background color**"
      ]
    },
    {
      "cell_type": "code",
      "metadata": {
        "id": "_pKDW9YjOGoX"
      },
      "source": [
        "import turtle\n",
        "\n",
        "cor = input('Digite a cor desejada para o plano de fundo')\n",
        "jn = turtle.Screen()\n",
        "jn.bgcolor(cor)\n",
        "\n",
        "joana = turtle.Turtle()\n",
        "\n",
        "joana.forward(50)\n",
        "joana.left(90)\n",
        "joana.forward(30)\n",
        "\n",
        "jn.mainloop()"
      ],
      "execution_count": null,
      "outputs": []
    },
    {
      "cell_type": "markdown",
      "metadata": {
        "id": "_ARqtEiBzsmy"
      },
      "source": [
        "**Exercício 2 - Alterar a cor da tartaruga e a espessura do traço**"
      ]
    },
    {
      "cell_type": "code",
      "metadata": {
        "id": "enipoJlKzyRx"
      },
      "source": [
        "import turtle\n",
        "\n",
        "cor_bg = input('Digite a cor do o plano de fundo: ')\n",
        "jn = turtle.Screen()\n",
        "jn.bgcolor(cor_bg)\n",
        "\n",
        "\n",
        "cor_tart = input('Digite a cor da tartaruga: ')\n",
        "joana = turtle.Turtle()\n",
        "joana.color(cor_tart)\n",
        "\n",
        "\n",
        "thickness = input('Digite a espessura do traço: ')\n",
        "joana.pensize(int(thickness))\n",
        "\n",
        "joana.forward(50)\n",
        "joana.left(90)\n",
        "joana.forward(30)\n",
        "\n",
        "jn.mainloop()"
      ],
      "execution_count": null,
      "outputs": []
    },
    {
      "cell_type": "markdown",
      "metadata": {
        "id": "IPhvX2_XwbDU"
      },
      "source": [
        "**Exercício 4 - Desenhando um quadrado usando uma tartaruga**"
      ]
    },
    {
      "cell_type": "code",
      "metadata": {
        "id": "fjwkDsfjweLh"
      },
      "source": [
        "import turtle \n",
        "\n",
        "t = turtle.Turtle()\n",
        "\n",
        "t.shape(\"turtle\")\n",
        "\n",
        "for i in range(4):\n",
        "  t.fd(100)\n",
        "  t.lt(90)"
      ],
      "execution_count": null,
      "outputs": []
    },
    {
      "cell_type": "markdown",
      "metadata": {
        "id": "tUYKqu0MXiZU"
      },
      "source": [
        "**Exercício 5 - Desenhando uma estrela**"
      ]
    },
    {
      "cell_type": "code",
      "metadata": {
        "id": "ZPs0NE7sXkut"
      },
      "source": [
        "import turtle\n",
        "\n",
        "jn = turtle.Screen()\n",
        "star = turtle.Turtle()\n",
        "\n",
        "for i in range(5):\n",
        "    star.bk(50)\n",
        "    star.left(144)"
      ],
      "execution_count": null,
      "outputs": []
    },
    {
      "cell_type": "markdown",
      "metadata": {
        "id": "75PNxF6YX6E1"
      },
      "source": [
        "**Exercício 6 - Desenhando quatro estrelas**"
      ]
    },
    {
      "cell_type": "code",
      "metadata": {
        "id": "4lnqstZOX9xG"
      },
      "source": [
        "import turtle \n",
        "\n",
        "star = turtle.Turtle()\n",
        "star.speed(10)\n",
        "star.penup()\n",
        "star.setx(-150)\n",
        "star.pendown()\n",
        "\n",
        "for j in range(4):\n",
        "  star.penup()\n",
        "  star.fd(60)\n",
        "  star.pendown()\n",
        "  for i in range(5):\n",
        "    star.bk(50)\n",
        "    star.lt(144)"
      ],
      "execution_count": null,
      "outputs": []
    },
    {
      "cell_type": "markdown",
      "metadata": {
        "id": "PFlRn4159LHj"
      },
      "source": [
        "## **Exercícios - Parte 2**"
      ]
    },
    {
      "cell_type": "markdown",
      "metadata": {
        "id": "linFhHV1gs4b"
      },
      "source": [
        "**Exercício 1 - Função square**"
      ]
    },
    {
      "cell_type": "code",
      "metadata": {
        "id": "7rgA07PUgvkk"
      },
      "source": [
        "import turtle\n",
        "\n",
        "joana = turtle.Turtle\n",
        "\n",
        "def square(t):\n",
        "\n",
        "  t = turtle.Turtle()\n",
        "  for i in range(4):\n",
        "    t.fd(100)\n",
        "    t.lt(90)\n",
        "    \n",
        "\n",
        "square(joana)"
      ],
      "execution_count": null,
      "outputs": []
    },
    {
      "cell_type": "markdown",
      "metadata": {
        "id": "l_XJDdzKgwZZ"
      },
      "source": [
        "**Exercício 2 - Função square + argumento length**"
      ]
    },
    {
      "cell_type": "code",
      "metadata": {
        "id": "FI2IioNXhKdn"
      },
      "source": [
        "import turtle\n",
        "\n",
        "joana = turtle.Turtle\n",
        "\n",
        "def square(t, length):\n",
        "\n",
        "  t = turtle.Turtle()\n",
        "  for i in range(4):\n",
        "    t.fd(length)\n",
        "    t.lt(90)\n",
        "    \n",
        "\n",
        "square(joana, 25)"
      ],
      "execution_count": null,
      "outputs": []
    },
    {
      "cell_type": "markdown",
      "metadata": {
        "id": "lZOC_c6Aid90"
      },
      "source": [
        "**Exercício 3 - Função Polygon**"
      ]
    },
    {
      "cell_type": "code",
      "metadata": {
        "id": "gfoF5Snyido0"
      },
      "source": [
        "import turtle\n",
        "\n",
        "pol_turtle = turtle.Turtle()\n",
        "\n",
        "def polygon(t, length, n):\n",
        "  for i in range(n):\n",
        "    t.fd(length)\n",
        "    t.lt(360/n)\n",
        "    \n",
        "    \n",
        "polygon(pol_turtle, 40, 10)"
      ],
      "execution_count": null,
      "outputs": []
    },
    {
      "cell_type": "markdown",
      "metadata": {
        "id": "lygCBsowiiYB"
      },
      "source": [
        "**Exercício 4 - Função circle**"
      ]
    },
    {
      "cell_type": "code",
      "metadata": {
        "id": "ID6CxHQmimDf"
      },
      "source": [
        "import turtle, math\n",
        "\n",
        "x = turtle.Turtle()\n",
        "\n",
        "def polygon(t, length, n):\n",
        "  for i in range(n):\n",
        "    t.fd(length)\n",
        "    t.lt(360/n)\n",
        "    \n",
        "def circle(t, r): \n",
        "    circ = 2*math.pi*r  \n",
        "    n = 60 \n",
        "    length = int(circ/n)\n",
        "    polygon(t, length, n)\n"
      ],
      "execution_count": null,
      "outputs": []
    },
    {
      "cell_type": "markdown",
      "metadata": {
        "id": "xbXaOGELN2nV"
      },
      "source": [
        "**Exercício 5 - Função arc**"
      ]
    },
    {
      "cell_type": "code",
      "metadata": {
        "id": "wtb6CyGSN5Rx"
      },
      "source": [
        "import turtle, math\n",
        "\n",
        "tart = turtle.Turtle()\n",
        "tart.ht()\n",
        "tart.speed(0)\n",
        "\n",
        "def poly(t, angle, n_tracos, tam_traco):\n",
        "  i = 1\n",
        "  while i <= (angle / (360/n_tracos)):\n",
        "    t.fd(tam_traco)\n",
        "    t.lt(360/n_tracos)\n",
        "    i = i + 1\n",
        "\n",
        "def arc(t, r, angle):\n",
        "  comprimento_arco = angle * 2 * math.pi * r / 360\n",
        "  comprimento_circ = 2 * math.pi * r\n",
        "  n_tracos = 200\n",
        "  tam_traco = (comprimento_circ / n_tracos)\n",
        "  poly(t, angle, n_tracos, tam_traco)\n",
        "  \n",
        "arc(tart, 30, 180)"
      ],
      "execution_count": null,
      "outputs": []
    }
  ]
}