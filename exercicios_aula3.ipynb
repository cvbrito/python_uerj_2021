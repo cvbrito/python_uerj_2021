{
  "nbformat": 4,
  "nbformat_minor": 0,
  "metadata": {
    "colab": {
      "name": "exercicios_aula3.ipynb",
      "provenance": [],
      "authorship_tag": "ABX9TyOr+71tZhcHjWail7h5ZKKx",
      "include_colab_link": true
    },
    "kernelspec": {
      "name": "python3",
      "display_name": "Python 3"
    },
    "language_info": {
      "name": "python"
    }
  },
  "cells": [
    {
      "cell_type": "markdown",
      "metadata": {
        "id": "view-in-github",
        "colab_type": "text"
      },
      "source": [
        "<a href=\"https://colab.research.google.com/github/cvbrito/python_uerj_2021/blob/main/exercicios_aula3.ipynb\" target=\"_parent\"><img src=\"https://colab.research.google.com/assets/colab-badge.svg\" alt=\"Open In Colab\"/></a>"
      ]
    },
    {
      "cell_type": "markdown",
      "metadata": {
        "id": "MWmyjc9zidyR"
      },
      "source": [
        "**Exercício 1 - Tipo de arumento**"
      ]
    },
    {
      "cell_type": "code",
      "metadata": {
        "colab": {
          "base_uri": "https://localhost:8080/"
        },
        "id": "WvyxK9noibM7",
        "outputId": "90a43737-4e69-40fc-96b8-c33f4271f4be"
      },
      "source": [
        "def tipo(arg):\n",
        "    print('O valor é', arg, 'e seu tipo é', type(arg))\n",
        "    \n",
        "tipo('test')"
      ],
      "execution_count": null,
      "outputs": [
        {
          "output_type": "stream",
          "text": [
            "O valor é test e seu tipo é <class 'str'>\n"
          ],
          "name": "stdout"
        }
      ]
    },
    {
      "cell_type": "markdown",
      "metadata": {
        "id": "fHOxZneekz-n"
      },
      "source": [
        "**Exercício 2 - Velocidade média**"
      ]
    },
    {
      "cell_type": "code",
      "metadata": {
        "colab": {
          "base_uri": "https://localhost:8080/"
        },
        "id": "4k3wLVl3k0gI",
        "outputId": "25efad8c-673d-4d14-9c3f-cdd21c5b5abe"
      },
      "source": [
        "def vel_mru(pos_inicial, pos_final, tempo):\n",
        "    vel_media_mru = (pos_final-pos_inicial)/tempo\n",
        "    print('A velocidade média do objeto em MRU é', vel_media_mru, 'm/s.')\n",
        "\n",
        "def vel_mrua(vel_inicial, g, tempo):\n",
        "    vel_media_mrua = vel_inicial+tempo*g\n",
        "    print('A velocidade do objeto em MRUA é', round(vel_media_mrua, 2), 'm/s.')\n",
        "\n",
        "vel_mru(10,100,10)\n",
        "vel_mrua(0,9.81,10)"
      ],
      "execution_count": null,
      "outputs": [
        {
          "output_type": "stream",
          "text": [
            "A velocidade média do objeto em MRU é 9.0 m/s.\n",
            "A velocidade do objeto em MRUA é 98.1 m/s.\n"
          ],
          "name": "stdout"
        }
      ]
    },
    {
      "cell_type": "markdown",
      "metadata": {
        "id": "_ocyLUrhnr0o"
      },
      "source": [
        "**Exercício 3 - Ângulo zenital**"
      ]
    },
    {
      "cell_type": "code",
      "metadata": {
        "colab": {
          "base_uri": "https://localhost:8080/"
        },
        "id": "RZyHCFCVnrR5",
        "outputId": "dd1471da-dcfc-4c6d-d69b-7fd158ae3ea7"
      },
      "source": [
        "import math\n",
        "\n",
        "def ang_zen(altura, comprimento):\n",
        "    angulo = math.atan2(comprimento, altura)\n",
        "    deg_angulo = math.degrees(angulo)\n",
        "    print('O ângulo zenital é de aproximadamente', round(deg_angulo, 2), 'graus.')\n",
        "\n",
        "ang_zen(5, 0.5)"
      ],
      "execution_count": null,
      "outputs": [
        {
          "output_type": "stream",
          "text": [
            "O ângulo zenital é de aproximadamente 5.71 graus.\n"
          ],
          "name": "stdout"
        }
      ]
    },
    {
      "cell_type": "markdown",
      "metadata": {
        "id": "ULJdjK8dp-jz"
      },
      "source": [
        "**Exercício 4 - Conversão de medidas**"
      ]
    },
    {
      "cell_type": "code",
      "metadata": {
        "colab": {
          "base_uri": "https://localhost:8080/"
        },
        "id": "eHYeuVKhp_N7",
        "outputId": "f15324c7-6691-4465-f0de-ebf3ca1faf0c"
      },
      "source": [
        "def mi_to_km(dist_mi):\n",
        "    d_km = dist_mi*1.61\n",
        "    return d_km\n",
        "\n",
        "def km_to_mi(dist_km):\n",
        "    d_mi = dist_km/1.61\n",
        "    return d_mi\n",
        "\n",
        "def hour_to_sec(time_h):\n",
        "    t_sec = time_h*3600\n",
        "    return t_sec\n",
        "\n",
        "def sec_to_hour(time_s):\n",
        "    t_h = time_s/3600\n",
        "    return t_h\n",
        "\n",
        "# Aplicando ao exercício 1 da aula 1:\n",
        "\n",
        "v_med = km_to_mi(10)/sec_to_hour(43*60+30)\n",
        "t_med = 60/v_med\n",
        "\n",
        "print('A minha velocidade média é aproximadamente', round(v_med,2), 'milhas por hora. Em média, ando uma milha a cada', round(t_med, 2), 'minutos.')\n",
        "\n",
        "# Outro exemplo: uma pessoa que caminha 4 milhas em 30 minutos. Naturalmente, a velocidade média é de 8 milhas por hora. Portanto,\n",
        "\n",
        "v_med2 = mi_to_km(8)\n",
        "t_med2 = 60/v_med2\n",
        "\n",
        "print('A velocidade média da pessoa é', round(v_med2,2), 'km/h. Ela anda um quilômetro a cada', round(t_med2, 2), 'minutos.')"
      ],
      "execution_count": null,
      "outputs": [
        {
          "output_type": "stream",
          "text": [
            "A minha velocidade média é aproximadamente 8.57 milhas por hora. Em média, ando uma milha a cada 7.0 minutos.\n",
            "A velocidade média da pessoa é 12.88 km/h. Ela anda um quilômetro a cada 4.66 minutos.\n"
          ],
          "name": "stdout"
        }
      ]
    },
    {
      "cell_type": "markdown",
      "metadata": {
        "id": "uF1RneRoz7M2"
      },
      "source": [
        "**Exercício 5 - Resolvendo os exercício das aula 1 e 2 utilizando funções**"
      ]
    },
    {
      "cell_type": "code",
      "metadata": {
        "colab": {
          "base_uri": "https://localhost:8080/"
        },
        "id": "vLHrLDrfz7hY",
        "outputId": "49fc19bc-751d-4b57-a4bc-de9080aef78d"
      },
      "source": [
        "# IMC\n",
        "\n",
        "def IMC(altura, massa):\n",
        "    imc_eq = massa/(altura**2)\n",
        "    return imc_eq\n",
        "\n",
        "print('O IMC do bebê é aproximadamente', round(IMC(0.70, 11),2))\n",
        "\n",
        "# Volume de uma esfera\n",
        "\n",
        "from math import pi\n",
        "\n",
        "def volume(raio):\n",
        "    vol = (4/3)*pi*raio**3\n",
        "    return vol\n",
        "\n",
        "print('O volume de uma esfera de raio igual a 5 metros é aproximadamente', round(volume(5),2), 'metros cúbicos.')\n",
        "\n",
        "# Máximos de interferência\n",
        "\n",
        "def interf(dist_ant, dist_fenda, comp_onda):\n",
        "    dist_maximos=((comp_onda*dist_ant)/dist_fenda)\n",
        "    return dist_maximos\n",
        "\n",
        "print('A distância entre dois máximos é de aproximadamente', round(interf(1.98, 0.250*10**(-3), 632.8*10**(-9))*10**3, 2), 'milimetros.')"
      ],
      "execution_count": null,
      "outputs": [
        {
          "output_type": "stream",
          "text": [
            "O IMC do bebê é aproximadamente 22.45\n",
            "O volume de uma esfera de raio igual a 5 metros é aproximadamente 523.6 metros cúbicos.\n",
            "A distância entre dois máximos é de aproximadamente 5.01 milimetros.\n"
          ],
          "name": "stdout"
        }
      ]
    }
  ]
}