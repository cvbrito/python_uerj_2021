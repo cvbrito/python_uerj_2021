{
  "nbformat": 4,
  "nbformat_minor": 0,
  "metadata": {
    "colab": {
      "name": "exercicios_aula6.ipynb",
      "provenance": [],
      "authorship_tag": "ABX9TyOZDaiZHIi4AjwRBrx0emX5",
      "include_colab_link": true
    },
    "kernelspec": {
      "name": "python3",
      "display_name": "Python 3"
    },
    "language_info": {
      "name": "python"
    }
  },
  "cells": [
    {
      "cell_type": "markdown",
      "metadata": {
        "id": "view-in-github",
        "colab_type": "text"
      },
      "source": [
        "<a href=\"https://colab.research.google.com/github/cvbrito/python_uerj_2021/blob/main/exercicios_aula6.ipynb\" target=\"_parent\"><img src=\"https://colab.research.google.com/assets/colab-badge.svg\" alt=\"Open In Colab\"/></a>"
      ]
    },
    {
      "cell_type": "markdown",
      "metadata": {
        "id": "4ft5DtcVRVah"
      },
      "source": [
        "**Exercício 1a - Alterar o script em um histograma**"
      ]
    },
    {
      "cell_type": "code",
      "metadata": {
        "colab": {
          "base_uri": "https://localhost:8080/"
        },
        "id": "A3pj71-fRW9I",
        "outputId": "24c11e38-b3d5-4a78-dbb2-3aada4e70ff9"
      },
      "source": [
        "import turtle\n",
        "\n",
        "cor_bg = input('Digite a cor do plano de fundo')\n",
        "\n",
        "cor_lin = input('Digite a cor das linhas')\n",
        "grid = input('Digite o tamanho do bin')\n",
        "cor_fill = input('Digite a cor do preenchimento')\n",
        "\n",
        "tess = turtle.Turtle()\n",
        "jn = turtle.Screen()\n",
        "\n",
        "tess.color(cor_lin)\n",
        "jn.bgcolor(cor_bg)\n",
        "tess.pensize(2)\n",
        "\n",
        "\n",
        "def draw_bar(t, height, bin):\n",
        "    \"\"\" Get turtle t to draw one bar, of height. \"\"\"\n",
        "    t.fillcolor(cor_fill)\n",
        "    t.left(90)\n",
        "    t.begin_fill()\n",
        "    t.forward(height)\n",
        "    t.right(90)\n",
        "    t.forward(bin)\n",
        "    t.right(90)\n",
        "    t.forward(height)\n",
        "    t.end_fill()\n",
        "    t.left(90)\n",
        "\n",
        "\n",
        "tess.penup() \n",
        "tess.goto(-200,-150)\n",
        "tess.pendown() \n",
        "\n",
        "xs = [48,117,200,240,160,260,220]\n",
        "\n",
        "for a in xs:\n",
        "    draw_bar(tess, a, grid)"
      ],
      "execution_count": null,
      "outputs": [
        {
          "output_type": "execute_result",
          "data": {
            "text/plain": [
              "bool"
            ]
          },
          "metadata": {},
          "execution_count": 1
        }
      ]
    },
    {
      "cell_type": "markdown",
      "metadata": {
        "id": "-u26ZMthkk9x"
      },
      "source": [
        "**Exercício 1b - Histograma a partir de uma lista inserida pelo usuário**"
      ]
    },
    {
      "cell_type": "code",
      "metadata": {
        "id": "Ix7KXqphklrl"
      },
      "source": [
        "import turtle\n",
        "\n",
        "tess = turtle.Turtle()\n",
        "jn = turtle.Screen()\n",
        "\n",
        "cor_bg = input('Digite a cor do plano de fundo: ')\n",
        "cor_lin = input('Digite a cor das linhas: ')\n",
        "grid = int(input('Digite o tamanho do bin: '))\n",
        "cor_fill = input('Digite a cor do preenchimento: ')\n",
        "n = int(input('Digite o número de elementos da lista: '))\n",
        "\n",
        "list_el = []\n",
        "\n",
        "for i in range(n):\n",
        "\tx = float(input('Digite um número: '))\n",
        "\tlist_el.append(x)\n",
        "\n",
        "tess.color(cor_lin)\n",
        "jn.bgcolor(cor_bg)\n",
        "\n",
        "def draw_bar(t, height, bin):\n",
        "    \"\"\" Get turtle t to draw one bar, of height. \"\"\"\n",
        "    t.fillcolor(cor_fill)\n",
        "    t.left(90)\n",
        "    t.begin_fill()\n",
        "    t.forward(height)\n",
        "    t.write(str(height), font=(\"Arial\", 12, \"normal\"))\n",
        "    t.right(90)\n",
        "    t.forward(bin)\n",
        "    t.right(90)\n",
        "    t.forward(height)\n",
        "    t.end_fill()\n",
        "    t.left(90)\n",
        "\n",
        "tess.penup() \n",
        "tess.goto(-200,-150)\n",
        "tess.pendown() \n",
        "\n",
        "if len(list_el) > 0 and type(list_el) is list:\n",
        "  for a in list_el:\n",
        "    draw_bar(tess, a, grid)\n",
        "\n"
      ],
      "execution_count": null,
      "outputs": []
    },
    {
      "cell_type": "markdown",
      "metadata": {
        "id": "N0Kr0BBGIp-Z"
      },
      "source": [
        "**Exercício 2 - Repetir o exercício 1 usando '*try*' e '*except*'**"
      ]
    },
    {
      "cell_type": "code",
      "metadata": {
        "id": "E36kMA6JIyzw"
      },
      "source": [
        "import turtle\n",
        "\n",
        "tess = turtle.Turtle()\n",
        "jn = turtle.Screen()\n",
        "\n",
        "ok = True\n",
        "\n",
        "cor_bg = input('Digite a cor do plano de fundo: ')\n",
        "cor_lin = input('Digite a cor das linhas: ')\n",
        "cor_fill = input('Digite a cor do preenchimento: ')\n",
        "\n",
        "tess.color(cor_lin)\n",
        "jn.bgcolor(cor_bg)\n",
        "\n",
        "try:\n",
        "  grid = int(input('Digite o tamanho do bin: '))\n",
        "  n = int(input('Digite o número de elementos da lista: '))\n",
        "except:\n",
        "  print('Erro! Digite um número.')\n",
        "  ok = False\n",
        "\n",
        "if ok:\n",
        "  list_el = []\n",
        "  for i in range(n):\n",
        "\t  x = float(input('Digite um número: '))\n",
        "\t  list_el.append(x)\n",
        "\n",
        "def draw_bar(t, height, bin):\n",
        "    t.fillcolor(cor_fill)\n",
        "    t.left(90)\n",
        "    t.begin_fill()\n",
        "    t.forward(height)\n",
        "    t.write(str(height), font=(\"Arial\", 12, \"normal\"))\n",
        "    t.right(90)\n",
        "    t.forward(bin)\n",
        "    t.right(90)\n",
        "    t.forward(height)\n",
        "    t.end_fill()\n",
        "    t.left(90)\n",
        "\n",
        "tess.penup() \n",
        "tess.goto(-200,-150)\n",
        "tess.pendown() \n",
        "\n",
        "if len(list_el) > 0 and type(list_el) is list:\n",
        "  for a in list_el:\n",
        "    draw_bar(tess, a, grid)\n"
      ],
      "execution_count": null,
      "outputs": []
    },
    {
      "cell_type": "markdown",
      "metadata": {
        "id": "mvAnlJpbqr4X"
      },
      "source": [
        "**Desafio: Plotar um histograma utilizando *matplotlib* e *numpy***"
      ]
    },
    {
      "cell_type": "code",
      "metadata": {
        "colab": {
          "base_uri": "https://localhost:8080/",
          "height": 391
        },
        "id": "9_9a54GOq4bp",
        "outputId": "919ee007-f3c1-447f-cabc-3fb956979bc5"
      },
      "source": [
        "import numpy as np\n",
        "import matplotlib.pyplot as plt\n",
        "\n",
        "n = int(input('Digite o número de elementos da lista: '))\n",
        "\n",
        "lista_elem = [] # criando listas vazias\n",
        "lista_labels = []\n",
        "\n",
        "for i in range(n):\n",
        "  x = float(input('Digite um número: '))\n",
        "  lista_elem.append(x)\n",
        "  lista_labels.append(i+1)\n",
        "\n",
        "array_elem = np.array(lista_elem) # convertendo as lista em arrays\n",
        "array_labels = np.array(lista_labels) \n",
        "\n",
        "plt.bar(array_labels, array_elem)\n",
        "plt.title('Histograma - Aula 6')\n",
        "plt.show()"
      ],
      "execution_count": null,
      "outputs": [
        {
          "name": "stdout",
          "output_type": "stream",
          "text": [
            "Digite o número de elementos da lista: 5\n",
            "Digite um número: 60\n",
            "Digite um número: 40\n",
            "Digite um número: 55\n",
            "Digite um número: 30\n",
            "Digite um número: 12\n"
          ]
        },
        {
          "output_type": "display_data",
          "data": {
            "image/png": "[encoded data removed]",
            "text/plain": [
              "<Figure size 432x288 with 1 Axes>"
            ]
          },
          "metadata": {
            "needs_background": "light"
          }
        }
      ]
    }
  ]
}