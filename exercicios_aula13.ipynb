{
  "nbformat": 4,
  "nbformat_minor": 0,
  "metadata": {
    "colab": {
      "name": "exercicios_aula13.ipynb",
      "provenance": [],
      "authorship_tag": "ABX9TyPnBsgG7WjI/rZ7ceTyCYIM",
      "include_colab_link": true
    },
    "kernelspec": {
      "name": "python3",
      "display_name": "Python 3"
    },
    "language_info": {
      "name": "python"
    }
  },
  "cells": [
    {
      "cell_type": "markdown",
      "metadata": {
        "id": "view-in-github",
        "colab_type": "text"
      },
      "source": [
        "<a href=\"https://colab.research.google.com/github/cvbrito/python_uerj_2021/blob/main/exercicios_aula13.ipynb\" target=\"_parent\"><img src=\"https://colab.research.google.com/assets/colab-badge.svg\" alt=\"Open In Colab\"/></a>"
      ]
    },
    {
      "cell_type": "markdown",
      "metadata": {
        "id": "G7wCObYdQKgY"
      },
      "source": [
        "**A classe \"Ponto\"**"
      ]
    },
    {
      "cell_type": "code",
      "metadata": {
        "id": "ovu8_3p-IpHG"
      },
      "source": [
        "class Ponto:\n",
        "  ''' Definindo a classe ponto '''\n",
        "\n",
        "  def __init__(self, x=0, y=0):\n",
        "    self.x = x\n",
        "    self.y = y\n",
        "\n",
        "  def distancia_origem(self):\n",
        "    ''' Calcula a distância de um ponto até a origem '''\n",
        "    return  ((self.x)**2+(self.y**2))\n",
        "\n",
        "  def inclinacao_origem(self):\n",
        "    ''' Calcula a tangente da reta que liga a origem ao ponto '''\n",
        "    if self.x == 0:\n",
        "      print('Erro: divisão por zero. Reta vertical.')\n",
        "    else:\n",
        "      return (self.y/self.x)\n",
        "\n",
        "  def distancia_pontos(self, target):\n",
        "    ''' Calcula a distancia entre dois pontos '''\n",
        "    delta_x = (self.x-target.x)**2\n",
        "    delta_y = (self.y-target.y)**2\n",
        "    distancia = (delta_x+delta_y)**.5\n",
        "    return(distancia)\n",
        "  \n",
        "  def reflexao_x(self):\n",
        "    ''' Calcula a reflexão de um ponto sobre o eixo x fazendo y -> -y '''\n",
        "    self.y = -self.y\n",
        "    return(Ponto(self.x, self.y))\n",
        "\n",
        "  def equacao_reta(self, target):\n",
        "    ''' Retorna os coeficientes angular e linear da reta que liga dois pontos '''\n",
        "    delta_x = target.x - self.x\n",
        "    delta_y = target.y - self.y\n",
        "    \n",
        "    if delta_x == 0:\n",
        "      print('Os pontos estão conectados por uma reta vertical.')\n",
        "    elif delta_y == 0 :\n",
        "      print('Os pontos estão conectados por uma reta horizontal.')\n",
        "      return(print(Ponto(0, self.y)))\n",
        "\n",
        "    if delta_x != 0 and delta_y != 0:\n",
        "      alpha = (delta_y)/(delta_x) # coeficiente angular\n",
        "      beta = ((self.y + target.y)-alpha*(self.x + target.x))/2  # coeficiente linear\n",
        "      return (print(Ponto(alpha, beta)))\n",
        "\n",
        "  def __str__(self):  # introduzindo o método 'dunder string' na classe ponto\n",
        "    ''' Printar o ponto como uma string '''\n",
        "    return \"({0}, {1})\".format(self.x, self.y)\n",
        "\n",
        "  def __add__(self, target):\n",
        "    return Ponto(self.x + target.x, self.x + target.y)"
      ],
      "execution_count": 1,
      "outputs": []
    },
    {
      "cell_type": "markdown",
      "metadata": {
        "id": "Xaex6ecuVIaj"
      },
      "source": [
        "**A classe \"retangulo\"**"
      ]
    },
    {
      "cell_type": "code",
      "metadata": {
        "id": "4DVUMPyrQ7uj"
      },
      "source": [
        "class retangulo:\n",
        "\n",
        "  def __init__(self, largura = 0, altura = 0, canto = Ponto()):\n",
        "    ''' Define um retângulo com largura \"L\", altura \"H\", onde um de seus vértices está no ponto \"canto\" '''\n",
        "    self.L = largura\n",
        "    self.H = altura\n",
        "    self.canto = canto\n",
        "\n",
        "  def desenhar_retangulo(self, t): # implementado no Trinket\n",
        "    ''' Desenha um retangulo \"ret\" utilizando a turtle \"t\" '''\n",
        "\n",
        "    ''' atributos da turtle '''\n",
        "    t = turtle.Turtle()\n",
        "    t.ht()  # escondendo a turtle\n",
        "    t.speed(0)  # velocidade máxima!\n",
        "    t.pu()\n",
        "    t.goto(self.canto)  # posicionando a tartaruga sobre o vértice \"canto\"'''\n",
        "    t.pd()\n",
        "\n",
        "    for i in range(2):  # desenhando o retângulo utilizando a turtle\n",
        "      t.fd(self.L)\n",
        "      t.lt(90)\n",
        "      t.fd(self.H)\n",
        "      t.lt(90)\n",
        "\n",
        "  def __str__(self):\n",
        "    ''' Imprimindo a classe retangulo na forma \"largura, altura, (canto_x, canto_y)\" '''\n",
        "    return \"{0}, {1}, {2}\".format(self.L, self.H, self.canto)"
      ],
      "execution_count": 2,
      "outputs": []
    },
    {
      "cell_type": "code",
      "metadata": {
        "colab": {
          "base_uri": "https://localhost:8080/"
        },
        "id": "Yo3k8KLk-1vc",
        "outputId": "fc9b4689-7e6d-4655-d02d-28f76bff0e43"
      },
      "source": [
        "# Retângulo teste\n",
        "\n",
        "teste = retangulo(10, 20, Ponto(1,1)) # definindo um retângulo de teste\n",
        "print(teste)"
      ],
      "execution_count": 3,
      "outputs": [
        {
          "output_type": "stream",
          "name": "stdout",
          "text": [
            "10, 20, (1, 1)\n"
          ]
        }
      ]
    },
    {
      "cell_type": "markdown",
      "metadata": {
        "id": "P2IaFRlAR2Ow"
      },
      "source": [
        "**Desenhando um retângulo**"
      ]
    },
    {
      "cell_type": "code",
      "metadata": {
        "id": "8GvuUVlSR3-6"
      },
      "source": [
        "test = retangulo(40, 80, (100,100))\n",
        "\n",
        "import turtle\n",
        "\n",
        "x = turtle.Turtle()\n",
        "\n",
        "test.desenhar_retangulo(x)  # a ser implementado no Trinket"
      ],
      "execution_count": null,
      "outputs": []
    },
    {
      "cell_type": "markdown",
      "metadata": {
        "id": "2S_gdkFjVQ1X"
      },
      "source": [
        "**A classe \"circle\"**"
      ]
    },
    {
      "cell_type": "code",
      "metadata": {
        "id": "bNz3VGpGIvr7"
      },
      "source": [
        "class circle:\n",
        "\n",
        "  def __init__(self, raio = 0, centro = Ponto()):\n",
        "    ''' Definindo um círculo de raio \"raio\" e centrado no ponto \"centro\" '''\n",
        "    self.raio = raio\n",
        "    self.centro = centro\n",
        "\n",
        "  def ponto_no_circulo(self, target):\n",
        "    ''' Calcula se o um ponto está no interior de um círculo de raio r '''\n",
        "    delta_x2 = (target.x - self.centro.x)**2\n",
        "    delta_y2 = (target.y - self.centro.y)**2\n",
        "    if (delta_x2 + delta_y2)**.5 <= self.raio:\n",
        "      in_circ = True\n",
        "    else:\n",
        "      in_circ = False\n",
        "    return(in_circ)\n",
        "\n",
        "  def desenhar_circulo(self, t):\n",
        "    t = turtle.Turtle()\n",
        "    t.ht()  # escondendo a turtle\n",
        "    t.speed(0)  # velocidade máxima!\n",
        "    t.pu()\n",
        "    t.goto(self.centro)  # posicionando a tartaruga no centro do círculo\n",
        "    t.pd()\n",
        "    t.circle(self.raio)    \n",
        "\n",
        "  def __str__(self):\n",
        "    ''' Definindo a dunder string para imprimir um círculo na forma (raio, (Centro_x, Centro_y)) '''\n",
        "    return \"{0}, {1}\".format(self.raio, self.centro)"
      ],
      "execution_count": null,
      "outputs": []
    },
    {
      "cell_type": "code",
      "metadata": {
        "colab": {
          "base_uri": "https://localhost:8080/"
        },
        "id": "l00gYy1r5TEX",
        "outputId": "a415a613-f64e-4dad-b7ca-3b4d73168982"
      },
      "source": [
        "# Círculo teste\n",
        "\n",
        "circulo = circle(75, Ponto(150,100))\n",
        "print(circulo)"
      ],
      "execution_count": null,
      "outputs": [
        {
          "output_type": "stream",
          "name": "stdout",
          "text": [
            "75, (150, 100)\n"
          ]
        }
      ]
    },
    {
      "cell_type": "markdown",
      "metadata": {
        "id": "LOOK1fDk4kw5"
      },
      "source": [
        "**Verificando se um ponto está no interior do círculo**"
      ]
    },
    {
      "cell_type": "code",
      "metadata": {
        "colab": {
          "base_uri": "https://localhost:8080/"
        },
        "id": "4wyxf3lE4ixs",
        "outputId": "631c3c8a-2a42-42bb-966d-3d8be79e3f1e"
      },
      "source": [
        "pt_test = Ponto(2,2)\n",
        "circ_test = circle(2, Ponto(1,1))\n",
        "\n",
        "circ_test.ponto_no_circulo(pt_test)"
      ],
      "execution_count": null,
      "outputs": [
        {
          "output_type": "execute_result",
          "data": {
            "text/plain": [
              "True"
            ]
          },
          "metadata": {},
          "execution_count": 44
        }
      ]
    },
    {
      "cell_type": "markdown",
      "metadata": {
        "id": "L-3WSpVPR5ZY"
      },
      "source": [
        "**Desenhando um círculo**"
      ]
    },
    {
      "cell_type": "code",
      "metadata": {
        "id": "UNy74HVDR53o"
      },
      "source": [
        "circ = circle(100, Ponto(0,100))\n",
        "#print(circ)\n",
        "\n",
        "import turtle\n",
        "\n",
        "t = turtle.Turtle()\n",
        "circ.desenhar_circulo(t)"
      ],
      "execution_count": null,
      "outputs": []
    }
  ]
}