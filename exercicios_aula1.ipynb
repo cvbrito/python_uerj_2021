{
  "nbformat": 4,
  "nbformat_minor": 0,
  "metadata": {
    "colab": {
      "name": "exercicios_aula1.ipynb",
      "provenance": [],
      "authorship_tag": "ABX9TyNHzt5x9wi8bbt7fqdJEBjV",
      "include_colab_link": true
    },
    "kernelspec": {
      "name": "python3",
      "display_name": "Python 3"
    },
    "language_info": {
      "name": "python"
    }
  },
  "cells": [
    {
      "cell_type": "markdown",
      "metadata": {
        "id": "view-in-github",
        "colab_type": "text"
      },
      "source": [
        "<a href=\"https://colab.research.google.com/github/cvbrito/python_uerj_2021/blob/main/exercicios_aula1.ipynb\" target=\"_parent\"><img src=\"https://colab.research.google.com/assets/colab-badge.svg\" alt=\"Open In Colab\"/></a>"
      ]
    },
    {
      "cell_type": "markdown",
      "metadata": {
        "id": "zyrSZGxkuJWM"
      },
      "source": [
        "**Exercício 1: Velocidade média**"
      ]
    },
    {
      "cell_type": "code",
      "metadata": {
        "colab": {
          "base_uri": "https://localhost:8080/"
        },
        "id": "c-xxgwoSuMS-",
        "outputId": "a1b897a4-925b-4595-a9af-aa00dab23c79"
      },
      "source": [
        "d=10/1.61\n",
        "t=43.5/60\n",
        "\n",
        "v_m=d/t\n",
        "t_m=60/v\n",
        "\n",
        "print('Minha velocidade média é', round(v_m,2), 'milhas por hora.')\n",
        "print('Em média, eu ando uma milha a cada', round(t_m,2), 'minutos.')"
      ],
      "execution_count": null,
      "outputs": [
        {
          "output_type": "stream",
          "text": [
            "Minha velocidade média é 8.57 milhas por hora.\n",
            "Em média, eu ando uma milha a cada 7.0 minutos.\n"
          ],
          "name": "stdout"
        }
      ]
    },
    {
      "cell_type": "markdown",
      "metadata": {
        "id": "0a0g3SHp1FlV"
      },
      "source": [
        "**Exercício 2: Distância para os fogos de artifício**"
      ]
    },
    {
      "cell_type": "code",
      "metadata": {
        "colab": {
          "base_uri": "https://localhost:8080/"
        },
        "id": "z8NSzdVB36rQ",
        "outputId": "6b4ef6f9-d133-40f5-f525-eff50113bc65"
      },
      "source": [
        "# t_som=t_luz+3\n",
        "\n",
        "c=3.0*10**8\n",
        "v_som=343\n",
        "\n",
        "t_som=d/v_som\n",
        "t_luz=d/c\n",
        "\n",
        "d=3*(1/v_som-1/c)**(-1)\n",
        "\n",
        "print('A distância da minha varanda para o local onde explodiram os fogos de artifício é de', round(d,2), 'metros.')"
      ],
      "execution_count": null,
      "outputs": [
        {
          "output_type": "stream",
          "text": [
            "A distância da minha varanda para o local onde explodiram os fogos de artifício é de 1029.0 metros.\n"
          ],
          "name": "stdout"
        }
      ]
    },
    {
      "cell_type": "markdown",
      "metadata": {
        "id": "goki_VCTri_f"
      },
      "source": [
        "**Exercício 3: Zeros da função de segundo grau**"
      ]
    },
    {
      "cell_type": "code",
      "metadata": {
        "colab": {
          "base_uri": "https://localhost:8080/"
        },
        "id": "AfOocwPtq2wp",
        "outputId": "4fdf7d4f-d0ff-42b4-c1da-70b5228f6d51"
      },
      "source": [
        "import math\n",
        "\n",
        "a=3\n",
        "b=-4\n",
        "c=-10\n",
        "\n",
        "r1=(-b+math.sqrt(b**2-4*a*c))/(2*a)\n",
        "r2=(-b-math.sqrt(b**2-4*a*c))/(2*a)\n",
        "\n",
        "print('As raízes da função são aproximadamente', round(r1,2), 'e', round(r2,2))"
      ],
      "execution_count": null,
      "outputs": [
        {
          "output_type": "stream",
          "text": [
            "As raízes da função são aproximadamente 2.61 e -1.28\n"
          ],
          "name": "stdout"
        }
      ]
    },
    {
      "cell_type": "markdown",
      "metadata": {
        "id": "hducgNT8xLcN"
      },
      "source": [
        "**Exercício 4: Ângulo zenital**"
      ]
    },
    {
      "cell_type": "code",
      "metadata": {
        "colab": {
          "base_uri": "https://localhost:8080/"
        },
        "id": "7UfaBC4-2H5v",
        "outputId": "1229e5d8-ad1c-4bb6-d063-8020036e33a5"
      },
      "source": [
        "h_poste=5\n",
        "s_poste=0.5\n",
        "\n",
        "ang_zen=math.degrees(math.atan2(s_poste, h_poste))\n",
        "\n",
        "print('O ângulo zenital do Sol é de aproximadamente', round(ang_zen,2), 'graus.')"
      ],
      "execution_count": null,
      "outputs": [
        {
          "output_type": "stream",
          "text": [
            "O ângulo zenital do Sol é de aproximadamente 5.71 graus.\n"
          ],
          "name": "stdout"
        }
      ]
    },
    {
      "cell_type": "markdown",
      "metadata": {
        "id": "H_c6U0HQroZZ"
      },
      "source": [
        "**Exercício 5: IMC**"
      ]
    },
    {
      "cell_type": "code",
      "metadata": {
        "colab": {
          "base_uri": "https://localhost:8080/"
        },
        "id": "HOz3th6nsFNx",
        "outputId": "5b3b1e4a-4fc1-488d-9357-72bccf05891b"
      },
      "source": [
        "h=0.7\n",
        "m=11\n",
        "\n",
        "imc=m/(h**2)\n",
        "\n",
        "print('O IMC da criança é', round(imc,2))"
      ],
      "execution_count": null,
      "outputs": [
        {
          "output_type": "stream",
          "text": [
            "O IMC da criança é 22.45\n"
          ],
          "name": "stdout"
        }
      ]
    },
    {
      "cell_type": "markdown",
      "metadata": {
        "id": "QM1ozfu3s2-V"
      },
      "source": [
        "Exercício 6: Queda livre"
      ]
    },
    {
      "cell_type": "code",
      "metadata": {
        "colab": {
          "base_uri": "https://localhost:8080/"
        },
        "id": "AfOQ3xE7s65U",
        "outputId": "e31c218d-914a-4c98-9748-03c8e2e34008"
      },
      "source": [
        "g=9.81\n",
        "L=3\n",
        "\n",
        "t=math.sqrt(2*L/g)\n",
        "v=g*t\n",
        "\n",
        "print('O objeto atinge o solo com uma velocidade de', round(v,2), 'm/s' ,'após', round(t,2), 'segundos.')"
      ],
      "execution_count": null,
      "outputs": [
        {
          "output_type": "stream",
          "text": [
            "O objeto atinge o solo com uma velocidade de 7.67 m/s após 0.78 segundos.\n"
          ],
          "name": "stdout"
        }
      ]
    }
  ]
}