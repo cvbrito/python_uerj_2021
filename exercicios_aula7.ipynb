{
  "nbformat": 4,
  "nbformat_minor": 0,
  "metadata": {
    "colab": {
      "name": "exercicios_aula7.ipynb",
      "provenance": [],
      "authorship_tag": "ABX9TyNslIQKHNrizQCXvdP7zHwD",
      "include_colab_link": true
    },
    "kernelspec": {
      "name": "python3",
      "display_name": "Python 3"
    },
    "language_info": {
      "name": "python"
    }
  },
  "cells": [
    {
      "cell_type": "markdown",
      "metadata": {
        "id": "view-in-github",
        "colab_type": "text"
      },
      "source": [
        "<a href=\"https://colab.research.google.com/github/cvbrito/python_uerj_2021/blob/main/exercicios_aula7.ipynb\" target=\"_parent\"><img src=\"https://colab.research.google.com/assets/colab-badge.svg\" alt=\"Open In Colab\"/></a>"
      ]
    },
    {
      "cell_type": "markdown",
      "metadata": {
        "id": "o7zCeaZ_-Jp4"
      },
      "source": [
        "### **Exercícios - Parte 1**"
      ]
    },
    {
      "cell_type": "markdown",
      "metadata": {
        "id": "dlzM3PD0lU1s"
      },
      "source": [
        "**1. A conjectura de Collatz**"
      ]
    },
    {
      "cell_type": "code",
      "metadata": {
        "colab": {
          "base_uri": "https://localhost:8080/"
        },
        "id": "FGPuuz-Bkfyd",
        "outputId": "64d85603-4ad3-417e-ee04-cc17a86b68f5"
      },
      "source": [
        "def collatz(n):\n",
        "  if n<1:\n",
        "    print('Número inválido! Digite um número inteiro positivo.')\n",
        "  else:\n",
        "    while n>=1:\n",
        "      if n % 2 == 0:\n",
        "        n = n/2\n",
        "        print(n)\n",
        "      else:\n",
        "        n = 3*n+1\n",
        "        print(n)\n",
        "      if n == 1:\n",
        "        break\n",
        "\n",
        "\n",
        "collatz(34)"
      ],
      "execution_count": null,
      "outputs": [
        {
          "output_type": "stream",
          "name": "stdout",
          "text": [
            "17.0\n",
            "52.0\n",
            "26.0\n",
            "13.0\n",
            "40.0\n",
            "20.0\n",
            "10.0\n",
            "5.0\n",
            "16.0\n",
            "8.0\n",
            "4.0\n",
            "2.0\n",
            "1.0\n"
          ]
        }
      ]
    },
    {
      "cell_type": "markdown",
      "metadata": {
        "id": "SodX2r0Xx7rr"
      },
      "source": [
        "**2. Função 'counter' modificada para contar algrismos 0 e 5 em um número**"
      ]
    },
    {
      "cell_type": "code",
      "metadata": {
        "colab": {
          "base_uri": "https://localhost:8080/"
        },
        "id": "t_HJVbQoacpe",
        "outputId": "80838b55-6401-4eed-aa6c-0cf135c5aa65"
      },
      "source": [
        "def counter05(n):\n",
        "  count = 0\n",
        "  y = int(n)\n",
        "  while y!=0:\n",
        "    if y%5 == 0:\n",
        "      count = count+1\n",
        "    y = y // 10\n",
        "  return count\n",
        "\n",
        "counter05(12501445801)"
      ],
      "execution_count": null,
      "outputs": [
        {
          "output_type": "execute_result",
          "data": {
            "text/plain": [
              "4"
            ]
          },
          "metadata": {},
          "execution_count": 5
        }
      ]
    },
    {
      "cell_type": "markdown",
      "metadata": {
        "id": "t4xNaY9P2He3"
      },
      "source": [
        "**3. Encapsulamento e generalização**"
      ]
    },
    {
      "cell_type": "code",
      "metadata": {
        "colab": {
          "base_uri": "https://localhost:8080/"
        },
        "id": "YcXp-iMX2Kuj",
        "outputId": "bf9282bf-2b8b-42f7-b9e0-c2d1d134cb8e"
      },
      "source": [
        "lista = []  # criando uma lista vazia\n",
        "\n",
        "def func_gen(n):\n",
        "  \"\"\" A função varre uma lista de n elementos inserida pelo usuário e imprime até o último número par. Após o término, retorna 'Feito!' \"\"\"\n",
        "  for i in range(n):\n",
        "    print('Digite o elemento número', i+1, 'da lista:')\n",
        "    x = int(input())\n",
        "    lista.append(x)\n",
        "  for k in lista:\n",
        "    if k%2 != 0:\n",
        "      print('Feito!')\n",
        "      break\n",
        "    print(k)\n",
        "\n",
        "func_gen(6)"
      ],
      "execution_count": null,
      "outputs": [
        {
          "output_type": "stream",
          "name": "stdout",
          "text": [
            "Digite o elemento número 1 da lista:\n",
            "50\n",
            "Digite o elemento número 2 da lista:\n",
            "34\n",
            "Digite o elemento número 3 da lista:\n",
            "28\n",
            "Digite o elemento número 4 da lista:\n",
            "91\n",
            "Digite o elemento número 5 da lista:\n",
            "55\n",
            "Digite o elemento número 6 da lista:\n",
            "2\n",
            "50\n",
            "34\n",
            "28\n",
            "Feito!\n"
          ]
        }
      ]
    },
    {
      "cell_type": "markdown",
      "metadata": {
        "id": "k2vEWnkc5Yk1"
      },
      "source": [
        "**4. Método de Newton**"
      ]
    },
    {
      "cell_type": "code",
      "metadata": {
        "colab": {
          "base_uri": "https://localhost:8080/"
        },
        "id": "iSLGBBd55aaO",
        "outputId": "f67a00c1-6265-4f27-d7ec-e969fba65678"
      },
      "source": [
        "def newton(n):\n",
        "  print('Insira um valor aproximado da raiz quadrada de', n, 'para iniciar o método de Newton: ')\n",
        "  approx = float(input())\n",
        "  melhor = (approx + n/approx)/2\n",
        "  while abs(melhor-approx)<0.01:\n",
        "    melhor = (approx + n/approx)/2\n",
        "  print('Segundo o método de Newton, a melhor aproximação para a raiz quadrada de', n, 'é', melhor)\n",
        "\n",
        "newton(3)"
      ],
      "execution_count": null,
      "outputs": [
        {
          "output_type": "stream",
          "name": "stdout",
          "text": [
            "Insira um valor aproximado da raiz quadrada de 3 para iniciar o método de Newton: \n",
            "1.65\n",
            "Segundo o método de Newton, a melhor aproximação para a raiz quadrada de 3 é 1.7340909090909091\n"
          ]
        }
      ]
    },
    {
      "cell_type": "markdown",
      "metadata": {
        "id": "dRjOJOhWlHhn"
      },
      "source": [
        "### **Exercícios - Parte 2**"
      ]
    },
    {
      "cell_type": "markdown",
      "metadata": {
        "id": "tqjF8ZjU-Oxg"
      },
      "source": [
        "**1. Função *time***"
      ]
    },
    {
      "cell_type": "code",
      "metadata": {
        "colab": {
          "base_uri": "https://localhost:8080/"
        },
        "id": "gs574vy0bQTD",
        "outputId": "0d356620-47fa-409d-d649-0fd2f733b5b4"
      },
      "source": [
        "from time import *\n",
        "\n",
        "# time() diz quantos segundos se passaram desde o dia 1 de janeiro de 1970\n",
        "\n",
        "days = time()/(24*3600)\n",
        "hours = (days-int(days))*24\n",
        "mins = (hours-int(hours))*60\n",
        "secs = (mins-int(mins))*60\n",
        "\n",
        "print('Desde o dia 1 de janeiro de 1970, passaram-se', int(days), 'dias,', int(hours), 'horas,', int(mins), 'minutos e', int(secs), 'segundos.')"
      ],
      "execution_count": null,
      "outputs": [
        {
          "output_type": "stream",
          "name": "stdout",
          "text": [
            "Desde o dia 1 de janeiro de 1970, passaram-se 18884 dias, 19 horas, 3 minutos e 3 segundos.\n"
          ]
        }
      ]
    },
    {
      "cell_type": "markdown",
      "metadata": {
        "id": "wdIppHPccqCp"
      },
      "source": [
        "**2. O último teorema de Fermat**"
      ]
    },
    {
      "cell_type": "code",
      "metadata": {
        "id": "KDaT-sjactoq"
      },
      "source": [
        "def check_fermat(a, b, c, n):\n",
        "  x = a**n + b**n - c**n\n",
        "  if n>2:\n",
        "    if x == 0:\n",
        "      print('Holy smokes, Fermat was wrong!')\n",
        "    else:\n",
        "      print('No, that does not work.')\n",
        "  else:\n",
        "    print('Fermat last theorem only accounts the cases where n>2.')\n",
        "    return\n",
        "\n",
        "def input_fermat(a, b, c, n):\n",
        "  a = int(input('Digite o valor de a: '))\n",
        "  b = int(input('Digite o valor de b: '))\n",
        "  c = int(input('Digite o valor de c: '))\n",
        "  n = int(input('Digite o valor de n: '))\n",
        "  check_fermat(a, b, c, n)"
      ],
      "execution_count": null,
      "outputs": []
    },
    {
      "cell_type": "markdown",
      "metadata": {
        "id": "y9h9Hq8ZepIM"
      },
      "source": [
        "**3. Formando um triângulo**"
      ]
    },
    {
      "cell_type": "code",
      "metadata": {
        "colab": {
          "base_uri": "https://localhost:8080/"
        },
        "id": "PzfGXFpNeq_O",
        "outputId": "879e32a0-24ba-4862-925d-46e85e446a6d"
      },
      "source": [
        "def is_triangle(x, y, z):\n",
        "  if x>y+z or y>x+z or z>x+y:\n",
        "    print('No.')\n",
        "  else:\n",
        "    print('Yes.')\n",
        "\n",
        "def input_triangle():\n",
        "  a = int(input('Digite o tamanho do primeiro lado: '))\n",
        "  b = int(input('Digite o tamanho do segundo lado: '))\n",
        "  c = int(input('Digite o tamanho do terceiro lado: '))\n",
        "  is_triangle(a, b, c)\n",
        "\n",
        "input_triangle()"
      ],
      "execution_count": null,
      "outputs": [
        {
          "output_type": "stream",
          "name": "stdout",
          "text": [
            "Digite o tamanho do primeiro lado: 4\n",
            "Digite o tamanho do segundo lado: 27\n",
            "Digite o tamanho do terceiro lado: 18\n",
            "No.\n"
          ]
        }
      ]
    },
    {
      "cell_type": "markdown",
      "metadata": {
        "id": "jIOvK13VgsYJ"
      },
      "source": [
        "**5. Curva de Koch**"
      ]
    },
    {
      "cell_type": "code",
      "metadata": {
        "id": "g9Qwd2DFgu9n"
      },
      "source": [
        "import turtle, math\n",
        "\n",
        "tart = turtle.Turtle()\n",
        "tart.speed(0)\n",
        "tart.ht()\n",
        "\n",
        "def koch(a, x):\n",
        "  if x<3:\n",
        "    a.fd(x)\n",
        "  else:\n",
        "    a.fd(x/3)\n",
        "    a.lt(60)\n",
        "    a.fd(x/3)\n",
        "    a.rt(120)\n",
        "    a.fd(x/3)\n",
        "    a.lt(60)\n",
        "    a.fd(x/3)\n",
        "    \n",
        "def snowflake(a, x):\n",
        "  for i in range(3):\n",
        "    koch(a, x)\n",
        "    a.lt(60)\n",
        "    koch(a, x)\n",
        "    a.rt(120)\n",
        "    koch(a, x)\n",
        "    a.lt(60)\n",
        "    koch(a, x)\n",
        "    a.rt(120) \n",
        "    \n",
        "def iterative_koch(t, length, order):\n",
        "  tam_traco = length/3 # tamanho de cada traço\n",
        "  if order == 0:\n",
        "    t.fd(length)\n",
        "  else:\n",
        "    for k in [60, -120, 60, 0]:\n",
        "      iterative_koch(t, tam_traco, order-1)\n",
        "      t.lt(k)\n",
        "\n",
        "def iterative_snowflake(t, length, order):\n",
        "  tam_traco = length/3 # tamanho de cada traço\n",
        "  for i in range(3):\n",
        "    iterative_koch(t, tam_traco, order)\n",
        "    t.rt(120)\n",
        "\n",
        "# exemplo: iterative_snowflake(tart, 200, 4)"
      ],
      "execution_count": null,
      "outputs": []
    }
  ]
}
